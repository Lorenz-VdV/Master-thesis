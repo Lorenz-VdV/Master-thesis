{
 "cells": [
  {
   "cell_type": "code",
   "execution_count": 1,
   "metadata": {},
   "outputs": [],
   "source": [
    "import re\n",
    "import numpy as np\n",
    "import pandas as pd\n",
    "import xlwt\n",
    "import requests\n",
    "import ete3\n",
    "ncbi = ete3.NCBITaxa()"
   ]
  },
  {
   "cell_type": "code",
   "execution_count": 2,
   "metadata": {},
   "outputs": [],
   "source": [
    "species= 'Francisella tularensis'"
   ]
  },
  {
   "cell_type": "code",
   "execution_count": 63,
   "metadata": {},
   "outputs": [],
   "source": [
    "#Int_DB = pd.read_table(\"/Users/thesis/Desktop/Google Drive/thesis-lorenz/Work in progress.../Databases/Extracted datasets/\" + species, usecols=lambda x:x !=\"Unnamed: 0\")"
   ]
  },
  {
   "cell_type": "code",
   "execution_count": 64,
   "metadata": {},
   "outputs": [],
   "source": [
    "Int_DB = pd.read_table('/Users/thesis/Desktop/Int_DB_IPR_' + species, usecols=lambda x:x !=\"Unnamed: 0\")"
   ]
  },
  {
   "cell_type": "markdown",
   "metadata": {},
   "source": [
    "BASE = 'http://www.uniprot.org'\n",
    "KB_ENDPOINT = '/uniprot/'\n",
    "TOOL_ENDPOINT = '/uploadlists/'\n",
    "\n",
    "taxid=ncbi.get_name_translator([species])[species][0]\n",
    "\n",
    "\n",
    "def proteome_query(taxon):\n",
    "    payload = {'query': 'taxonomy:'+str(taxon),\n",
    "           'format': 'list'}\n",
    "\n",
    "    result2 = requests.get(BASE + KB_ENDPOINT, params=payload)\n",
    "    \n",
    "\n",
    "    if result2.ok:\n",
    "        output = set(result2.text.split())\n",
    "        return output\n",
    "    else:\n",
    "        print('Something went wrong ', result.status_code)"
   ]
  },
  {
   "cell_type": "markdown",
   "metadata": {},
   "source": [
    "prot_list = proteome_query(9606)"
   ]
  },
  {
   "cell_type": "markdown",
   "metadata": {},
   "source": [
    "#zelfde code als hierboven maar dan voor de grote file\n",
    "with open ('/Volumes/Biomina_D2/thesis-lorenz/goa_uniprot_all.gaf','r') as f:\n",
    "    with open ('/Volumes/Biomina_D2/thesis-lorenz/GO_human_out.txt','w') as w:\n",
    "        outer_counter = 0\n",
    "        for line in f:\n",
    "            outer_counter += 1\n",
    "            if outer_counter % 10000000 == 0:\n",
    "                print('Processed',outer_counter,'lines')\n",
    "            l = line.split('\\t')\n",
    "            if len(l)>1:\n",
    "                if l[1] in prot_list:\n",
    "                    w.write(line)"
   ]
  },
  {
   "cell_type": "code",
   "execution_count": 3,
   "metadata": {},
   "outputs": [],
   "source": [
    "with open ('/Users/thesis/Desktop/GO_' + species + '_out.txt') as f:\n",
    "    GO_entry =[]\n",
    "    P2GO = {}\n",
    "    for line in f:\n",
    "        l = line.split('\\t')\n",
    "        if l[0] != 'UniProtKB':\n",
    "            continue\n",
    "        else:\n",
    "            if l[1] not in GO_entry:\n",
    "                if GO_entry != []:\n",
    "                    P2GO[GO_entry[0]]=GO_entry[1:]\n",
    "                    GO_entry =[] \n",
    "                GO_entry.append(l[1])\n",
    "            GO_entry.append(l[4])\n",
    "        \n",
    "for key in P2GO.keys():\n",
    "    P2GO[key]=list(pd.unique(P2GO[key]))"
   ]
  },
  {
   "cell_type": "code",
   "execution_count": 4,
   "metadata": {},
   "outputs": [],
   "source": [
    "def Find_terms(ID):\n",
    "    if ID in P2GO.keys():\n",
    "        return P2GO[ID]\n",
    "    else:\n",
    "        return None\n",
    "def Find_proteins(GO):\n",
    "    outp = []\n",
    "    for key in P2GO:\n",
    "        if GO in P2IPRGO[key]:\n",
    "            outp.append(key)\n",
    "    return outp"
   ]
  },
  {
   "cell_type": "code",
   "execution_count": 67,
   "metadata": {},
   "outputs": [],
   "source": [
    "Int_DB['GO_A']=Int_DB.Protein_A.apply(lambda x: Find_terms(x))"
   ]
  },
  {
   "cell_type": "code",
   "execution_count": 5,
   "metadata": {},
   "outputs": [],
   "source": [
    "with open ('/Users/thesis/Desktop/GO_human_out.txt') as f:\n",
    "    GO_entry =[]\n",
    "    P2GO_hum = {}\n",
    "    for line in f:\n",
    "        l = line.split('\\t')\n",
    "        if l[0] != 'UniProtKB':\n",
    "            continue\n",
    "        else:\n",
    "            if l[1] not in GO_entry:\n",
    "                if GO_entry != []:\n",
    "                    P2GO_hum[GO_entry[0]]=GO_entry[1:]\n",
    "                    GO_entry =[] \n",
    "                GO_entry.append(l[1])\n",
    "            GO_entry.append(l[4])\n",
    "        \n",
    "for key in P2GO_hum.keys():\n",
    "    P2GO_hum[key]=list(pd.unique(P2GO_hum[key]))"
   ]
  },
  {
   "cell_type": "code",
   "execution_count": 6,
   "metadata": {},
   "outputs": [],
   "source": [
    "def Find_terms_hum(ID):\n",
    "    if ID in P2GO_hum.keys():\n",
    "        return P2GO_hum[ID]\n",
    "    else:\n",
    "        return None\n",
    "def Find_proteins_hum(GO):\n",
    "    outp = []\n",
    "    for key in P2GO_hum:\n",
    "        if GO in P2GO_hum[key]:\n",
    "            outp.append(key)\n",
    "    return outp"
   ]
  },
  {
   "cell_type": "code",
   "execution_count": 70,
   "metadata": {},
   "outputs": [],
   "source": [
    "Int_DB['GO_B']=Int_DB.Protein_B.apply(lambda x: Find_terms_hum(x))"
   ]
  },
  {
   "cell_type": "code",
   "execution_count": 71,
   "metadata": {},
   "outputs": [],
   "source": [
    "Int_DB.to_csv(\"/Users/thesis/Desktop/Int_DB_IPR_GO_\" + species, sep =\"\\t\")"
   ]
  },
  {
   "cell_type": "code",
   "execution_count": null,
   "metadata": {},
   "outputs": [],
   "source": [
    "#Adding Go terms to the dataset with remapped IDs"
   ]
  },
  {
   "cell_type": "code",
   "execution_count": 7,
   "metadata": {},
   "outputs": [],
   "source": [
    "Int_DB = pd.read_table('/Users/thesis/Desktop/Int_DB_IPR_GO_Remap_' + species, usecols=lambda x:x !=\"Unnamed: 0\")"
   ]
  },
  {
   "cell_type": "code",
   "execution_count": 8,
   "metadata": {},
   "outputs": [],
   "source": [
    "sel1 = Int_DB.GO_A.isnull()\n",
    "sel2 = Int_DB.GO_B.isnull()"
   ]
  },
  {
   "cell_type": "code",
   "execution_count": 9,
   "metadata": {},
   "outputs": [],
   "source": [
    "Int_DB.loc[sel1,'GO_A'] = Int_DB.loc[sel1,'Protein_A'].apply(lambda x: Find_terms(x))\n",
    "Int_DB.loc[sel2,'GO_B'] = Int_DB.loc[sel1,'Protein_B'].apply(lambda x: Find_terms_hum(x))\n"
   ]
  },
  {
   "cell_type": "code",
   "execution_count": 10,
   "metadata": {},
   "outputs": [],
   "source": [
    "Int_DB.to_csv(\"/Users/thesis/Desktop/Int_DB_IPR_GO2_\" + species, sep =\"\\t\")"
   ]
  },
  {
   "cell_type": "code",
   "execution_count": null,
   "metadata": {},
   "outputs": [],
   "source": []
  }
 ],
 "metadata": {
  "kernelspec": {
   "display_name": "Python 3",
   "language": "python",
   "name": "python3"
  },
  "language_info": {
   "codemirror_mode": {
    "name": "ipython",
    "version": 3
   },
   "file_extension": ".py",
   "mimetype": "text/x-python",
   "name": "python",
   "nbconvert_exporter": "python",
   "pygments_lexer": "ipython3",
   "version": "3.6.1"
  }
 },
 "nbformat": 4,
 "nbformat_minor": 2
}
