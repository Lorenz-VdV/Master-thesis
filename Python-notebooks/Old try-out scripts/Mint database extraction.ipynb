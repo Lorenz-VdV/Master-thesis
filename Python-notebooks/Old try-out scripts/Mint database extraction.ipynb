{
 "cells": [
  {
   "cell_type": "code",
   "execution_count": 1,
   "metadata": {},
   "outputs": [],
   "source": [
    "import pandas as pd\n",
    "import numpy as np\n",
    "import re\n",
    "from ete3 import NCBITaxa\n",
    "ncbi = NCBITaxa()"
   ]
  },
  {
   "cell_type": "code",
   "execution_count": 2,
   "metadata": {},
   "outputs": [],
   "source": [
    "df= pd.read_excel(\"../../Databases/MINT/MINT_MiTab.xlsx\", names = [\"Protein_A\", \"Protein_B\", \"Detection_method\", \"Pubmed_ID\", \"Species_A\", \"Species_B\", \"Interaction_type\", \"Interaction_ID\"], usecols= \"A,B,G,I:L,N\")"
   ]
  },
  {
   "cell_type": "code",
   "execution_count": 14,
   "metadata": {},
   "outputs": [],
   "source": [
    "df2 = df.copy()"
   ]
  },
  {
   "cell_type": "code",
   "execution_count": 15,
   "metadata": {},
   "outputs": [],
   "source": [
    "species= df2[\"Species_A\"]\n",
    "species=species.str.lower()\n",
    "species=species.str.extract(r'(?:taxid:)([0-9]*)',expand = True)\n",
    "df2 = df2.assign(Taxid_A=species)\n",
    "\n",
    "species= df2[\"Species_B\"]\n",
    "species=species.str.lower()\n",
    "species=species.str.extract(r'(?:taxid:)([0-9]*)',expand = True)\n",
    "df2 = df2.assign(Taxid_B=species)"
   ]
  },
  {
   "cell_type": "code",
   "execution_count": 16,
   "metadata": {},
   "outputs": [],
   "source": [
    "sel1=df2.Taxid_A.isnull()\n",
    "sel2=df2.Taxid_B.isnull()"
   ]
  },
  {
   "cell_type": "code",
   "execution_count": 17,
   "metadata": {},
   "outputs": [],
   "source": [
    "df3=df2.loc[sel1 | sel2, :]"
   ]
  },
  {
   "cell_type": "code",
   "execution_count": 18,
   "metadata": {},
   "outputs": [],
   "source": [
    "df3.to_excel(\"../Test outputs/MINT/MINT.xls\")\n",
    "df4 = df2.loc[(df2['Taxid_A'] == '')| (df2['Taxid_B']== '')]\n",
    "df4.to_excel(\"../Test outputs/MINT/MINT2.xls\")"
   ]
  },
  {
   "cell_type": "markdown",
   "metadata": {},
   "source": [
    "Idea is to group entries by taxid and use this to split the database file into smaller files per species. However after conversion some entries had a null value in their taxid column. Wrote it to excel file to check what's going on.\n",
    "\n",
    "It seems some assays with non-protein chemicals were done, those are irrelevant and will be filtered out in the rest of this procedure.\n",
    "\n",
    "However there seem to be some protein kinase assays which don't have a second protein involved => autophosphorylation assays? => Begs the question: we filter for Pathogen-host interactions but the interactions aimed at the proteins involved in these PHI reactions are also important,no? (Example: entry 117800 => K pneumoniae Ser/Thr kinase which autophosphorylates but probably also interferes with stress response)\n",
    "\n",
    "Entry number 103438 TK1675 => the mentioned pubmed article has nothing to do with this gene nor interaction?\n",
    "Entry number 106669 => DNA methyltransferase => so not a PPI interaction\n",
    "Entry number 107518 => Protease => autolytic activity?\n",
    "Entry number 117027 => Dimer of virulence factor interacting with TLR-1 => could be important if we select this pathogen species (brucella melitensis)\n",
    "\n",
    "For now I will leave all of them out\n",
    "\n",
    "\n",
    "Apparently some checmical synthesis 'species' escape the previous filter because they DO have a protein, so I'm guessing these are manmade proteins?"
   ]
  },
  {
   "cell_type": "code",
   "execution_count": 19,
   "metadata": {},
   "outputs": [],
   "source": [
    "df2 = df2.loc[~sel1 & ~sel2,:]"
   ]
  },
  {
   "cell_type": "code",
   "execution_count": 54,
   "metadata": {},
   "outputs": [
    {
     "data": {
      "text/plain": [
       "606"
      ]
     },
     "execution_count": 54,
     "metadata": {},
     "output_type": "execute_result"
    }
   ],
   "source": [
    "species=list(df2.Taxid_A.unique())\n",
    "species2=list(df2.Taxid_B.unique())\n",
    "for taxon in species2:\n",
    "    if taxon not in species:\n",
    "        species.append(taxon)\n",
    "    else:\n",
    "        continue"
   ]
  },
  {
   "cell_type": "code",
   "execution_count": 21,
   "metadata": {},
   "outputs": [
    {
     "ename": "ValueError",
     "evalue": "invalid literal for int() with base 10: ''",
     "output_type": "error",
     "traceback": [
      "\u001b[0;31m---------------------------------------------------------------------------\u001b[0m",
      "\u001b[0;31mValueError\u001b[0m                                Traceback (most recent call last)",
      "\u001b[0;32m<ipython-input-21-78c741c40b3c>\u001b[0m in \u001b[0;36m<module>\u001b[0;34m()\u001b[0m\n\u001b[1;32m      4\u001b[0m     \u001b[0msel2\u001b[0m \u001b[0;34m=\u001b[0m \u001b[0mdf3\u001b[0m\u001b[0;34m.\u001b[0m\u001b[0mloc\u001b[0m\u001b[0;34m[\u001b[0m\u001b[0;34m:\u001b[0m\u001b[0;34m,\u001b[0m\u001b[0;34m\"Taxid_B\"\u001b[0m\u001b[0;34m]\u001b[0m \u001b[0;34m==\u001b[0m \u001b[0mtaxon\u001b[0m\u001b[0;34m\u001b[0m\u001b[0m\n\u001b[1;32m      5\u001b[0m \u001b[0;34m\u001b[0m\u001b[0m\n\u001b[0;32m----> 6\u001b[0;31m     \u001b[0mname\u001b[0m \u001b[0;34m=\u001b[0m \u001b[0mncbi\u001b[0m\u001b[0;34m.\u001b[0m\u001b[0mtranslate_to_names\u001b[0m\u001b[0;34m(\u001b[0m\u001b[0;34m[\u001b[0m\u001b[0mint\u001b[0m\u001b[0;34m(\u001b[0m\u001b[0mtaxon\u001b[0m\u001b[0;34m)\u001b[0m\u001b[0;34m]\u001b[0m\u001b[0;34m)\u001b[0m\u001b[0;34m\u001b[0m\u001b[0m\n\u001b[0m\u001b[1;32m      7\u001b[0m     \u001b[0mname\u001b[0m \u001b[0;34m=\u001b[0m \u001b[0mname\u001b[0m\u001b[0;34m[\u001b[0m\u001b[0;36m0\u001b[0m\u001b[0;34m]\u001b[0m\u001b[0;34m\u001b[0m\u001b[0m\n\u001b[1;32m      8\u001b[0m     \u001b[0mname\u001b[0m \u001b[0;34m=\u001b[0m \u001b[0mname\u001b[0m\u001b[0;34m.\u001b[0m\u001b[0mreplace\u001b[0m\u001b[0;34m(\u001b[0m\u001b[0;34m'/'\u001b[0m\u001b[0;34m,\u001b[0m\u001b[0;34m'|'\u001b[0m\u001b[0;34m)\u001b[0m\u001b[0;34m\u001b[0m\u001b[0m\n",
      "\u001b[0;31mValueError\u001b[0m: invalid literal for int() with base 10: ''"
     ]
    }
   ],
   "source": [
    "for taxon in species:\n",
    "    df3= df2.copy()\n",
    "    sel1 = df3.loc[:,\"Taxid_A\"] == taxon\n",
    "    sel2 = df3.loc[:,\"Taxid_B\"] == taxon\n",
    "    \n",
    "    name = ncbi.translate_to_names([int(taxon)])\n",
    "    name = name[0]\n",
    "    name = name.replace('/','|')\n",
    "    path = \"../Test outputs/MINT/taxid:\" + name + \" MINT.xls\"\n",
    "\n",
    "    df3 = df3.loc[sel1 | sel2,:]\n",
    "    df3 = df3.reset_index(drop=True)\n",
    "\n",
    "    sel_index=[]\n",
    "    sel_ID=[]\n",
    "    for i in range(0,len(df3)):\n",
    "        if df3.loc[i,\"Interaction_ID\"] not in sel_ID:\n",
    "            sel_index.append(i)\n",
    "            sel_ID.append(df3.loc[i,\"Interaction_ID\"])\n",
    "        else:\n",
    "            continue\n",
    "\n",
    "    sel=df3.index.isin(sel_index)\n",
    "    df3=df3.loc[sel,:]\n",
    "    df3.reset_index(drop=True)\n",
    "    df3.to_excel(path)"
   ]
  },
  {
   "cell_type": "code",
   "execution_count": null,
   "metadata": {},
   "outputs": [],
   "source": []
  }
 ],
 "metadata": {
  "kernelspec": {
   "display_name": "Python 3",
   "language": "python",
   "name": "python3"
  },
  "language_info": {
   "codemirror_mode": {
    "name": "ipython",
    "version": 3
   },
   "file_extension": ".py",
   "mimetype": "text/x-python",
   "name": "python",
   "nbconvert_exporter": "python",
   "pygments_lexer": "ipython3",
   "version": "3.6.1"
  }
 },
 "nbformat": 4,
 "nbformat_minor": 2
}
