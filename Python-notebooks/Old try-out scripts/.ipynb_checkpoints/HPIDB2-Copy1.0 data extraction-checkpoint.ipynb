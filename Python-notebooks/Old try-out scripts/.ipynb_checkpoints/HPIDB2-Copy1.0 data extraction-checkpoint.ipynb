{
 "cells": [
  {
   "cell_type": "code",
   "execution_count": 1,
   "metadata": {},
   "outputs": [],
   "source": [
    "import re\n",
    "import numpy as np\n",
    "import pandas as pd\n",
    "import xlwt\n",
    "import os"
   ]
  },
  {
   "cell_type": "code",
   "execution_count": 8,
   "metadata": {},
   "outputs": [],
   "source": [
    "#Read in Excel\n",
    "df = pd.read_excel(\"../../Databases/HPIDB2.0/Excel files/Shigella flexneri.xlsx\", names=[\"Human_protein\",\"Pathogen_protein\",\"Detection_method\", \"Pubmed_ID\",\"Taxid_B\",\"Taxid_Pathogen\",\"Interaction_type\",\"Interaction_ID\"], usecols=\"A,B,G,I:L,N\")\n",
    "\n",
    "#Rearrange columns\n",
    "columnsTitles=[\"Taxid_Pathogen\",\"Pathogen_protein\",\"Taxid_B\",\"Protein_B\",\"Detection_method\", \"Pubmed_ID\",\"Interaction_type\",\"Interaction_ID\"]\n",
    "df=df.reindex(columns=columnsTitles)"
   ]
  },
  {
   "cell_type": "code",
   "execution_count": 9,
   "metadata": {},
   "outputs": [],
   "source": [
    "#Determine source database protein_ID after merge\n",
    "A=df.Protein_B.apply(lambda x: x.split(\":\")[0])\n",
    "B=df.Pathogen_protein.apply(lambda y: y.split(\":\")[0])\n",
    "C=[]\n",
    "for i in range(len(A)):\n",
    "    if A[i]== B[i]:\n",
    "        C.append(A[i])\n",
    "    else:\n",
    "        C.append((A[i],B[i]))\n",
    "df= df.assign(Database=C)"
   ]
  },
  {
   "cell_type": "code",
   "execution_count": null,
   "metadata": {},
   "outputs": [],
   "source": []
  },
  {
   "cell_type": "code",
   "execution_count": 10,
   "metadata": {},
   "outputs": [],
   "source": [
    "#Extract Interaction_ID after merge\n",
    "Int=df[\"Interaction_ID\"]\n",
    "Int = Int.str.extract(r'(?:EBI-)([0-9]*)',expand =True)\n",
    "df[\"Interaction_ID\"]=Int"
   ]
  },
  {
   "cell_type": "code",
   "execution_count": 11,
   "metadata": {},
   "outputs": [],
   "source": [
    "#Extract protein IDs and rearrange columns dataframe after merge\n",
    "H_p = df[\"Protein_B\"]\n",
    "H_p=H_p.str.replace(r'(?:uniprotkb:)([a-zA-Z0-9]*)', '\\g<1>')\n",
    "df[\"Protein_B\"]=H_p\n",
    "\n",
    "P_p=df[\"Pathogen_protein\"]\n",
    "P_p=P_p.str.replace(r'(?:uniprotkb:)([a-zA-Z0-9]*)','\\g<1>')\n",
    "df[\"Pathogen_protein\"]=P_p"
   ]
  },
  {
   "cell_type": "code",
   "execution_count": 12,
   "metadata": {},
   "outputs": [],
   "source": [
    "#Extract detection method after merge\n",
    "D_m = df[\"Detection_method\"]\n",
    "D_m=D_m.str.replace((r'(?:psi-mi:MI:[0-9]*[(])([^)]*)(?:[)])'), '\\g<1>')\n",
    "df[\"Detection_method\"]=D_m"
   ]
  },
  {
   "cell_type": "code",
   "execution_count": 13,
   "metadata": {},
   "outputs": [],
   "source": [
    "#Extract pubmed_ID after merge\n",
    "P_ID=df[\"Pubmed_ID\"]\n",
    "P_ID=P_ID.str.replace(r'(?:[^p]*)(?:pubmed:)([0-9]*)(?:.*)','\\g<1>')\n",
    "df[\"Pubmed_ID\"]=P_ID"
   ]
  },
  {
   "cell_type": "code",
   "execution_count": 14,
   "metadata": {},
   "outputs": [],
   "source": [
    "#Extract interaction type after merge\n",
    "I_t = df[\"Interaction_type\"]\n",
    "I_t=I_t.str.replace((r'(?:psi-mi:MI:[0-9]*[(])([^)]*)(?:[)])'), '\\g<1>')\n",
    "df[\"Interaction_type\"]=I_t"
   ]
  },
  {
   "cell_type": "code",
   "execution_count": 15,
   "metadata": {},
   "outputs": [],
   "source": [
    "#Rearrange rows of dataframe after merge\n",
    "df=df.sort_values(\"Pathogen_protein\")\n",
    "df = df.reset_index(drop=True)"
   ]
  },
  {
   "cell_type": "code",
   "execution_count": 16,
   "metadata": {},
   "outputs": [],
   "source": [
    "df.to_excel(\"../Test outputs/Shigella flexneri HPIDB.xls\")"
   ]
  },
  {
   "cell_type": "code",
   "execution_count": null,
   "metadata": {},
   "outputs": [],
   "source": []
  }
 ],
 "metadata": {
  "kernelspec": {
   "display_name": "Python 3",
   "language": "python",
   "name": "python3"
  },
  "language_info": {
   "codemirror_mode": {
    "name": "ipython",
    "version": 3
   },
   "file_extension": ".py",
   "mimetype": "text/x-python",
   "name": "python",
   "nbconvert_exporter": "python",
   "pygments_lexer": "ipython3",
   "version": "3.6.1"
  }
 },
 "nbformat": 4,
 "nbformat_minor": 2
}
