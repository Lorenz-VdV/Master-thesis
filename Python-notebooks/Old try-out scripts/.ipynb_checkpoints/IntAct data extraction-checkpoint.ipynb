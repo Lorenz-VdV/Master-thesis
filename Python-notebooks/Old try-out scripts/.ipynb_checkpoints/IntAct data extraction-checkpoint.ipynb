{
 "cells": [
  {
   "cell_type": "code",
   "execution_count": 1,
   "metadata": {},
   "outputs": [],
   "source": [
    "import pandas as pd\n",
    "import numpy as np\n",
    "import re\n",
    "from ete3 import NCBITaxa"
   ]
  },
  {
   "cell_type": "code",
   "execution_count": 2,
   "metadata": {},
   "outputs": [],
   "source": [
    "#Read in excel\n",
    "df = pd.read_excel(\"../../Databases/IntAct/Shigella flexneri.xlsx\", names=[\"Protein_A\",\"Protein_B\",\"Detection_method\", \"Pubmed_ID\",\"Species_A\",\"Species_B\",\"Interaction_type\",\"Interaction_ID\"], usecols=\"A,B,G,I:L,N\")"
   ]
  },
  {
   "cell_type": "code",
   "execution_count": 3,
   "metadata": {},
   "outputs": [],
   "source": [
    "#Determine source database of protein ID\n",
    "A=df.Protein_A.apply(lambda x: x.split(\":\")[0])\n",
    "B=df.Protein_B.apply(lambda y: y.split(\":\")[0])\n",
    "C=[]\n",
    "for i in range(len(A)):\n",
    "    if A[i]== B[i]:\n",
    "        C.append(A[i])\n",
    "    else:\n",
    "        C.append((A[i],B[i]))\n",
    "df= df.assign(Database_Protein=C)"
   ]
  },
  {
   "cell_type": "code",
   "execution_count": 4,
   "metadata": {},
   "outputs": [],
   "source": [
    "#Extract Interaction_ID\n",
    "Int=df[\"Interaction_ID\"]\n",
    "Int = Int.str.extract(r'(?:EBI-)([0-9]*)',expand =True)\n",
    "df[\"Interaction_ID\"]=Int"
   ]
  },
  {
   "cell_type": "code",
   "execution_count": 5,
   "metadata": {},
   "outputs": [],
   "source": [
    "#Make taxid columns\n",
    "species= df[\"Species_A\"]\n",
    "species=species.str.lower()\n",
    "species=species.str.extract(r'(?:taxid:)([0-9]*)',expand = True)\n",
    "df = df.assign(Taxid_A=species)\n",
    "\n",
    "species= df[\"Species_B\"]\n",
    "species=species.str.lower()\n",
    "species=species.str.extract(r'(?:taxid:)([0-9]*)',expand = True)\n",
    "df = df.assign(Taxid_B=species)"
   ]
  },
  {
   "cell_type": "code",
   "execution_count": 6,
   "metadata": {},
   "outputs": [],
   "source": [
    "df.Taxid_A= pd.to_numeric(df.Taxid_A,downcast='integer',errors='coerce')\n",
    "df.Taxid_B = pd.to_numeric(df.Taxid_B,downcast='integer', errors ='coerce')"
   ]
  },
  {
   "cell_type": "markdown",
   "metadata": {},
   "source": [
    "Some entries have an empty group as a result of the regexp extraction, this causes the to_numeric function to coerce the whole series as floats, thus we will drop these empty entries after a first round of coercion and then coerce the whole series again to integers\n",
    "\n",
    "Those entries are all due to interactions done using a synthesised chemical"
   ]
  },
  {
   "cell_type": "code",
   "execution_count": 9,
   "metadata": {},
   "outputs": [],
   "source": [
    "#Drop NaN values\n",
    "\n",
    "sel1=df.Taxid_A.isnull()\n",
    "sel2=df.Taxid_B.isnull()\n",
    "df = df.loc[~sel1 & ~sel2,:]\n",
    "df = df.reset_index(drop=True)"
   ]
  },
  {
   "cell_type": "code",
   "execution_count": 12,
   "metadata": {},
   "outputs": [],
   "source": [
    "#Converting Taxids to integers\n",
    "df.Taxid_A= pd.to_numeric(df.Taxid_A,downcast='integer',errors='coerce')\n",
    "df.Taxid_B = pd.to_numeric(df.Taxid_B,downcast='integer', errors ='coerce')"
   ]
  },
  {
   "cell_type": "code",
   "execution_count": 13,
   "metadata": {},
   "outputs": [],
   "source": [
    "#Converting taxids to species\n",
    "ncbi = NCBITaxa()\n",
    "\n",
    "test=df[\"Taxid_A\"]\n",
    "test = ncbi.translate_to_names(test)\n",
    "df[\"Species_A\"]=test\n",
    "\n",
    "test=df[\"Taxid_B\"]\n",
    "test = ncbi.translate_to_names(test)\n",
    "df[\"Species_B\"]=test"
   ]
  },
  {
   "cell_type": "code",
   "execution_count": 14,
   "metadata": {},
   "outputs": [],
   "source": [
    "#clean up species columns\n",
    "species= df[\"Species_A\"]\n",
    "species=species.str.lower()\n",
    "species=species.str.extract(r'(shigella flexneri|homo sapiens) ?([0-9a-zA-Z]*)?',expand=True)\n",
    "df[\"Species_A\"]=species\n",
    "\n",
    "species= df[\"Species_B\"]\n",
    "species=species.str.lower()\n",
    "species=species.str.extract(r'(shigella flexneri|homo sapiens) ?([0-9a-zA-Z]*)?',expand=True)\n",
    "df[\"Species_B\"]=species"
   ]
  },
  {
   "cell_type": "code",
   "execution_count": 15,
   "metadata": {},
   "outputs": [],
   "source": [
    "#Drop non-human and non-shigella proteins\n",
    "sel1=df.Species_A.isnull()\n",
    "sel2=df.Species_B.isnull()\n",
    "df = df.loc[~sel1 & ~sel2,:]\n",
    "df = df.reset_index(drop=True)"
   ]
  },
  {
   "cell_type": "code",
   "execution_count": 16,
   "metadata": {},
   "outputs": [],
   "source": [
    "#Drop non-(human-shigella) interactions\n",
    "df=df[df[\"Species_A\"] != df[\"Species_B\"]]\n",
    "df = df.reset_index(drop =True)"
   ]
  },
  {
   "cell_type": "code",
   "execution_count": 17,
   "metadata": {},
   "outputs": [],
   "source": [
    "#Clean up protein ID columns\n",
    "P_A = df[\"Protein_A\"]\n",
    "P_A=P_A.str.replace(r'(?:uniprotkb:)([a-zA-Z0-9]*)', '\\g<1>')\n",
    "df[\"Protein_A\"]=P_A\n",
    "\n",
    "\n",
    "df[\"Protein_B\"]=df[\"Protein_B\"].str.replace(r'(?:uniprotkb:)([a-zA-Z0-9]*)','\\g<1>')\n",
    "#expression does exactly the same as the one above it but less readable"
   ]
  },
  {
   "cell_type": "code",
   "execution_count": 18,
   "metadata": {},
   "outputs": [],
   "source": [
    "#Clean up detection method\n",
    "D_m = df[\"Detection_method\"]\n",
    "D_m=D_m.str.replace((r'(?:psi-mi:\"MI:[0-9]*\"[(])([^)]*)(?:[)])'), '\\g<1>')\n",
    "df[\"Detection_method\"]=D_m"
   ]
  },
  {
   "cell_type": "code",
   "execution_count": 19,
   "metadata": {},
   "outputs": [],
   "source": [
    "#Clean up PubmedID\n",
    "P_ID=df[\"Pubmed_ID\"]\n",
    "P_ID=P_ID.str.replace(r'(?:[^p]*)(?:pubmed:)([0-9]*)(?:.*)','\\g<1>')\n",
    "df[\"Pubmed_ID\"]=P_ID"
   ]
  },
  {
   "cell_type": "code",
   "execution_count": 20,
   "metadata": {},
   "outputs": [],
   "source": [
    "#Clean up interaction type\n",
    "I_t = df[\"Interaction_type\"]\n",
    "I_t=I_t.str.replace((r'(?:psi-mi:\"MI:[0-9]*\"[(])([^)]*)(?:[)])'), '\\g<1>')\n",
    "df[\"Interaction_type\"]=I_t"
   ]
  },
  {
   "cell_type": "code",
   "execution_count": 21,
   "metadata": {},
   "outputs": [],
   "source": [
    "#Rearrange dataframe so that all human proteins and all shigella proteins are in the same columns resp.\n",
    "for i in range(len(df)):\n",
    "    if df.loc[i,\"Species_A\"] != \"shigella flexneri\":\n",
    "        A = df.loc[i,\"Species_A\"]\n",
    "        B = df.loc[i,\"Species_B\"]\n",
    "        C = df.loc[i,\"Protein_A\"]\n",
    "        D = df.loc[i,\"Protein_B\"]\n",
    "        E = df.loc[i,\"Taxid_A\"]\n",
    "        F = df.loc[i,\"Taxid_B\"]\n",
    "\n",
    "        df.loc[i,\"Species_A\"] = B\n",
    "        df.loc[i,\"Species_B\"] = A\n",
    "        df.loc[i,\"Protein_A\"]= D\n",
    "        df.loc[i,\"Protein_B\"]= C\n",
    "        df.loc[i,\"Taxid_A\"]= F\n",
    "        df.loc[i,\"Taxid_B\"]= E"
   ]
  },
  {
   "cell_type": "code",
   "execution_count": 22,
   "metadata": {},
   "outputs": [],
   "source": [
    "#Group rows based on protein ID\n",
    "df=df.sort_values(\"Protein_A\")\n",
    "df=df.reset_index(drop=True)"
   ]
  },
  {
   "cell_type": "code",
   "execution_count": 23,
   "metadata": {},
   "outputs": [],
   "source": [
    "df.to_excel(\"../Test outputs/Shigella flexneri IntAct.xls\")"
   ]
  },
  {
   "cell_type": "code",
   "execution_count": null,
   "metadata": {},
   "outputs": [],
   "source": []
  }
 ],
 "metadata": {
  "kernelspec": {
   "display_name": "Python 3",
   "language": "python",
   "name": "python3"
  },
  "language_info": {
   "codemirror_mode": {
    "name": "ipython",
    "version": 3
   },
   "file_extension": ".py",
   "mimetype": "text/x-python",
   "name": "python",
   "nbconvert_exporter": "python",
   "pygments_lexer": "ipython3",
   "version": "3.6.1"
  }
 },
 "nbformat": 4,
 "nbformat_minor": 2
}
