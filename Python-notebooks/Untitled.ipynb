{
 "cells": [
  {
   "cell_type": "code",
   "execution_count": 2,
   "metadata": {},
   "outputs": [],
   "source": [
    "import requests"
   ]
  },
  {
   "cell_type": "code",
   "execution_count": 3,
   "metadata": {},
   "outputs": [],
   "source": [
    "BASE = 'http://www.uniprot.org'\n",
    "KB_ENDPOINT = '/uniprot/'\n",
    "TOOL_ENDPOINT = '/uploadlists/'"
   ]
  },
  {
   "cell_type": "code",
   "execution_count": 4,
   "metadata": {},
   "outputs": [],
   "source": [
    "payload = {'query': 'taxonomy:263 AND reviewed:yes',\n",
    "           'format': 'list'}\n",
    "def uniprot(payload):\n",
    "    result2 = requests.get(BASE + KB_ENDPOINT, params=payload)\n",
    "    if result2.ok:\n",
    "        return result2.text\n",
    "    else:\n",
    "        print('Something went wrong ', result.status_code)"
   ]
  },
  {
   "cell_type": "code",
   "execution_count": 5,
   "metadata": {},
   "outputs": [
    {
     "ename": "SyntaxError",
     "evalue": "unexpected EOF while parsing (<ipython-input-5-c83f074ca49b>, line 1)",
     "output_type": "error",
     "traceback": [
      "\u001b[0;36m  File \u001b[0;32m\"<ipython-input-5-c83f074ca49b>\"\u001b[0;36m, line \u001b[0;32m1\u001b[0m\n\u001b[0;31m    set(uniprot(payload).split()\u001b[0m\n\u001b[0m                                ^\u001b[0m\n\u001b[0;31mSyntaxError\u001b[0m\u001b[0;31m:\u001b[0m unexpected EOF while parsing\n"
     ]
    }
   ],
   "source": [
    "set(uniprot(payload).split()"
   ]
  },
  {
   "cell_type": "code",
   "execution_count": 6,
   "metadata": {},
   "outputs": [
    {
     "ename": "NameError",
     "evalue": "name 'result2' is not defined",
     "output_type": "error",
     "traceback": [
      "\u001b[0;31m---------------------------------------------------------------------------\u001b[0m",
      "\u001b[0;31mNameError\u001b[0m                                 Traceback (most recent call last)",
      "\u001b[0;32m<ipython-input-6-cf4f028e771f>\u001b[0m in \u001b[0;36m<module>\u001b[0;34m()\u001b[0m\n\u001b[0;32m----> 1\u001b[0;31m \u001b[0;32mfor\u001b[0m \u001b[0mkey\u001b[0m\u001b[0;34m,\u001b[0m \u001b[0mvalue\u001b[0m \u001b[0;32min\u001b[0m \u001b[0mresult2\u001b[0m\u001b[0;34m.\u001b[0m\u001b[0mheaders\u001b[0m\u001b[0;34m.\u001b[0m\u001b[0mitems\u001b[0m\u001b[0;34m(\u001b[0m\u001b[0;34m)\u001b[0m\u001b[0;34m:\u001b[0m\u001b[0;34m\u001b[0m\u001b[0m\n\u001b[0m\u001b[1;32m      2\u001b[0m     \u001b[0mprint\u001b[0m\u001b[0;34m(\u001b[0m\u001b[0;34m'{}: {}'\u001b[0m\u001b[0;34m.\u001b[0m\u001b[0mformat\u001b[0m\u001b[0;34m(\u001b[0m\u001b[0mkey\u001b[0m\u001b[0;34m,\u001b[0m \u001b[0mvalue\u001b[0m\u001b[0;34m)\u001b[0m\u001b[0;34m)\u001b[0m\u001b[0;34m\u001b[0m\u001b[0m\n",
      "\u001b[0;31mNameError\u001b[0m: name 'result2' is not defined"
     ]
    }
   ],
   "source": [
    "for key, value in result2.headers.items():\n",
    "    print('{}: {}'.format(key, value))"
   ]
  },
  {
   "cell_type": "code",
   "execution_count": 7,
   "metadata": {},
   "outputs": [],
   "source": [
    "def map_retrieve(ids2map, source_fmt='ACC+ID',\n",
    "                 target_fmt='ACC', output_fmt='list'):\n",
    "    '''Map database identifiers from/to UniProt accessions.\n",
    "    \n",
    "    The mapping is achieved using the RESTful mapping service provided by\n",
    "    UniProt. While a great many identifiers can be mapped the documentation\n",
    "    has to be consulted to check which options there are and what the database\n",
    "    codes are. Mapping UniProt to UniProt effectlvely allows batch retrieval\n",
    "    of entries.\n",
    "    \n",
    "    Args:\n",
    "        ids2map (list or string): identifiers to be mapped\n",
    "        source_fmt (str, optional): format of identifiers to be mapped.\n",
    "            Defaults to ACC+ID, which are UniProt accessions or IDs.\n",
    "        target_fmt (str, optional): desired identifier format. Defaults\n",
    "            to ACC, which is UniProt accessions.\n",
    "        output_fmt (str, optional): return format of data. Defaults to list.\n",
    "        \n",
    "    Returns:\n",
    "        mapped identifiers (str)\n",
    "    '''\n",
    "    if hasattr(ids2map, 'pop'):\n",
    "        ids2map = ' '.join(ids2map)\n",
    "    payload = {'from': source_fmt,\n",
    "               'to': target_fmt,\n",
    "               'format': output_fmt,\n",
    "               'query': ids2map,\n",
    "               }\n",
    "    response = requests.get(BASE + TOOL_ENDPOINT, params=payload)\n",
    "    if response.ok:\n",
    "        return response.text\n",
    "    else:\n",
    "        response.raise_for_status()"
   ]
  },
  {
   "cell_type": "code",
   "execution_count": 8,
   "metadata": {},
   "outputs": [
    {
     "data": {
      "text/plain": [
       "'P0DMV8\\nP0DMV9\\n'"
      ]
     },
     "execution_count": 8,
     "metadata": {},
     "output_type": "execute_result"
    }
   ],
   "source": [
    "map_retrieve(['P08107'])"
   ]
  },
  {
   "cell_type": "code",
   "execution_count": null,
   "metadata": {},
   "outputs": [],
   "source": []
  }
 ],
 "metadata": {
  "kernelspec": {
   "display_name": "Python 3",
   "language": "python",
   "name": "python3"
  },
  "language_info": {
   "codemirror_mode": {
    "name": "ipython",
    "version": 3
   },
   "file_extension": ".py",
   "mimetype": "text/x-python",
   "name": "python",
   "nbconvert_exporter": "python",
   "pygments_lexer": "ipython3",
   "version": "3.6.1"
  }
 },
 "nbformat": 4,
 "nbformat_minor": 2
}
