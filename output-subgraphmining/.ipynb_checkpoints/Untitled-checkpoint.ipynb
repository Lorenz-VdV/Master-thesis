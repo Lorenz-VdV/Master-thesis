{
 "cells": [
  {
   "cell_type": "code",
   "execution_count": 137,
   "metadata": {},
   "outputs": [],
   "source": [
    "import re\n",
    "import numpy as np\n",
    "import pandas as pd"
   ]
  },
  {
   "cell_type": "code",
   "execution_count": 138,
   "metadata": {},
   "outputs": [],
   "source": [
    "with open (\"run5-translated.txt\", 'r') as f:\n",
    "    subgraph_list=[]\n",
    "    for line in f:\n",
    "        spl=re.compile(r',[0-9]')\n",
    "        x = spl.split(line)\n",
    "        pattern = re.compile(r'([a-zA-Z0-9 _-]*[-][a-zA-Z0-9 _-]*)')\n",
    "        subgraph = []\n",
    "        for elem in x:\n",
    "            match = pattern.match(elem)\n",
    "            if match:\n",
    "                subgraph.append(match.group(1))\n",
    "        subgraph_list.append(subgraph)\n",
    "    df = pd.DataFrame(subgraph_list, columns = [\"edge1\",\"edge2\",\"edge3\"])"
   ]
  },
  {
   "cell_type": "code",
   "execution_count": 139,
   "metadata": {},
   "outputs": [],
   "source": [
    "df2 = df"
   ]
  },
  {
   "cell_type": "code",
   "execution_count": 140,
   "metadata": {},
   "outputs": [],
   "source": [
    "df3 = df2.groupby(\"edge1\").count()"
   ]
  },
  {
   "cell_type": "code",
   "execution_count": 141,
   "metadata": {},
   "outputs": [],
   "source": [
    "#df3.to_excel(\"run12_edge1_groups.xlsx\")"
   ]
  },
  {
   "cell_type": "code",
   "execution_count": 142,
   "metadata": {},
   "outputs": [],
   "source": [
    "df4 = df2.groupby([\"edge1\",\"edge2\"]).count()\n"
   ]
  },
  {
   "cell_type": "code",
   "execution_count": 143,
   "metadata": {},
   "outputs": [],
   "source": [
    "mylist = list(set(df4.edge3))\n",
    "mylist2 =[]"
   ]
  },
  {
   "cell_type": "code",
   "execution_count": 144,
   "metadata": {},
   "outputs": [
    {
     "name": "stdout",
     "output_type": "stream",
     "text": [
      "[2]\n"
     ]
    }
   ],
   "source": [
    "if len(mylist) >10:\n",
    "    while len (mylist2) < 10:\n",
    "        a = mylist.pop()\n",
    "        mylist2.append(a)\n",
    "    print(mylist2)\n",
    "else:\n",
    "    a = mylist.pop()\n",
    "    mylist2.append(a)\n",
    "print(mylist2)"
   ]
  },
  {
   "cell_type": "code",
   "execution_count": 145,
   "metadata": {},
   "outputs": [],
   "source": [
    "with open (\"run5_edge2_top.txt\",'w') as w:\n",
    "    for i in range(0,len(df4.edge3)):\n",
    "        if df4.edge3[i] in mylist2:\n",
    "            w.write(str(df4.iloc[i,:]))"
   ]
  },
  {
   "cell_type": "code",
   "execution_count": 146,
   "metadata": {},
   "outputs": [],
   "source": [
    "#df4.to_excel(\"run12_edge2_groups.xlsx\")"
   ]
  },
  {
   "cell_type": "code",
   "execution_count": null,
   "metadata": {},
   "outputs": [],
   "source": []
  }
 ],
 "metadata": {
  "kernelspec": {
   "display_name": "Python 3",
   "language": "python",
   "name": "python3"
  },
  "language_info": {
   "codemirror_mode": {
    "name": "ipython",
    "version": 3
   },
   "file_extension": ".py",
   "mimetype": "text/x-python",
   "name": "python",
   "nbconvert_exporter": "python",
   "pygments_lexer": "ipython3",
   "version": "3.6.1"
  }
 },
 "nbformat": 4,
 "nbformat_minor": 2
}
