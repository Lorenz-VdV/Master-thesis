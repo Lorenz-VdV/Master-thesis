{
 "cells": [
  {
   "cell_type": "code",
   "execution_count": 10,
   "metadata": {},
   "outputs": [],
   "source": [
    "import requests"
   ]
  },
  {
   "cell_type": "code",
   "execution_count": 11,
   "metadata": {},
   "outputs": [],
   "source": [
    "BASE = 'http://www.uniprot.org'\n",
    "KB_ENDPOINT = '/uniprot/'\n",
    "TOOL_ENDPOINT = '/uploadlists/'"
   ]
  },
  {
   "cell_type": "code",
   "execution_count": 20,
   "metadata": {},
   "outputs": [
    {
     "name": "stdout",
     "output_type": "stream",
     "text": [
      "\n"
     ]
    }
   ],
   "source": [
    "payload = {'query': 'name:\"Q8N2N0\" AND organism:\"human\" AND reviewed:yes',\n",
    "           'format': 'list'}\n",
    "\n",
    "result2 = requests.get(BASE + KB_ENDPOINT, params=payload)\n",
    "\n",
    "if result2.ok:\n",
    "    print(result2.text)\n",
    "else:\n",
    "    print('Something went wrong ', result.status_code)"
   ]
  },
  {
   "cell_type": "code",
   "execution_count": 13,
   "metadata": {},
   "outputs": [
    {
     "name": "stdout",
     "output_type": "stream",
     "text": [
      "Server: Apache-Coyote/1.1\n",
      "Vary: User-Agent\n",
      "X-Hosted-By: European Bioinformatics Institute\n",
      "Content-Type: text/html;charset=ISO-8859-1\n",
      "Date: Thu, 08 Feb 2018 15:33:30 GMT\n",
      "X-UniProt-Release: 2018_01\n",
      "Expires: Thu, 15 Feb 2018 15:33:31 GMT\n",
      "X-Total-Results: 0\n",
      "Access-Control-Allow-Origin: *\n",
      "Last-Modified: Wed, 31 Jan 2018 00:00:00 GMT\n",
      "Access-Control-Allow-Headers: origin, x-requested-with, content-type\n",
      "Content-Length: 0\n"
     ]
    }
   ],
   "source": [
    "for key, value in result2.headers.items():\n",
    "    print('{}: {}'.format(key, value))"
   ]
  },
  {
   "cell_type": "code",
   "execution_count": 14,
   "metadata": {},
   "outputs": [],
   "source": [
    "def map_retrieve(ids2map, source_fmt='ACC+ID',\n",
    "                 target_fmt='ACC', output_fmt='list'):\n",
    "    '''Map database identifiers from/to UniProt accessions.\n",
    "    \n",
    "    The mapping is achieved using the RESTful mapping service provided by\n",
    "    UniProt. While a great many identifiers can be mapped the documentation\n",
    "    has to be consulted to check which options there are and what the database\n",
    "    codes are. Mapping UniProt to UniProt effectlvely allows batch retrieval\n",
    "    of entries.\n",
    "    \n",
    "    Args:\n",
    "        ids2map (list or string): identifiers to be mapped\n",
    "        source_fmt (str, optional): format of identifiers to be mapped.\n",
    "            Defaults to ACC+ID, which are UniProt accessions or IDs.\n",
    "        target_fmt (str, optional): desired identifier format. Defaults\n",
    "            to ACC, which is UniProt accessions.\n",
    "        output_fmt (str, optional): return format of data. Defaults to list.\n",
    "        \n",
    "    Returns:\n",
    "        mapped identifiers (str)\n",
    "    '''\n",
    "    if hasattr(ids2map, 'pop'):\n",
    "        ids2map = ' '.join(ids2map)\n",
    "    payload = {'from': source_fmt,\n",
    "               'to': target_fmt,\n",
    "               'format': output_fmt,\n",
    "               'query': ids2map,\n",
    "               }\n",
    "    response = requests.get(BASE + TOOL_ENDPOINT, params=payload)\n",
    "    if response.ok:\n",
    "        return response.text\n",
    "    else:\n",
    "        response.raise_for_status()"
   ]
  },
  {
   "cell_type": "code",
   "execution_count": 18,
   "metadata": {},
   "outputs": [
    {
     "data": {
      "text/plain": [
       "'Q8N2N0\\n'"
      ]
     },
     "execution_count": 18,
     "metadata": {},
     "output_type": "execute_result"
    }
   ],
   "source": [
    "map_retrieve([''])"
   ]
  },
  {
   "cell_type": "code",
   "execution_count": null,
   "metadata": {},
   "outputs": [],
   "source": []
  }
 ],
 "metadata": {
  "kernelspec": {
   "display_name": "Python 3",
   "language": "python",
   "name": "python3"
  },
  "language_info": {
   "codemirror_mode": {
    "name": "ipython",
    "version": 3
   },
   "file_extension": ".py",
   "mimetype": "text/x-python",
   "name": "python",
   "nbconvert_exporter": "python",
   "pygments_lexer": "ipython3",
   "version": "3.6.1"
  }
 },
 "nbformat": 4,
 "nbformat_minor": 2
}
