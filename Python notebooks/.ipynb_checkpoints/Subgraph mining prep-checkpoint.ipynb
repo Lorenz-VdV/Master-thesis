{
 "cells": [
  {
   "cell_type": "code",
   "execution_count": 1,
   "metadata": {},
   "outputs": [],
   "source": [
    "import pandas as pd\n",
    "import numpy as np"
   ]
  },
  {
   "cell_type": "code",
   "execution_count": 2,
   "metadata": {},
   "outputs": [],
   "source": [
    "species = 'Francisella tularensis'"
   ]
  },
  {
   "cell_type": "code",
   "execution_count": 14,
   "metadata": {},
   "outputs": [],
   "source": [
    "Int_DB = pd.read_table('/Users/thesis/Desktop/Int_DB_IPR2_GO2_Francisella tularensis', usecols=lambda x:x !=\"Unnamed: 0\")"
   ]
  },
  {
   "cell_type": "code",
   "execution_count": 3,
   "metadata": {},
   "outputs": [],
   "source": [
    "with open('/Users/thesis/Desktop/Int_DB_IPR2_GO2_Francisella tularensis','r') as f:\n",
    "    with open('/Users/thesis/Desktop/subgraph-mining-prep-int.txt','w') as w:\n",
    "        for line in f:\n",
    "            l = line.split()\n",
    "            if l[0] != 'Taxid_A':\n",
    "                w.write(l[3] + '\\t'+l[4] + '\\n')\n",
    "              \n",
    "            "
   ]
  },
  {
   "cell_type": "code",
   "execution_count": 4,
   "metadata": {},
   "outputs": [],
   "source": [
    "with open('/Users/thesis/Desktop/Int_DB_IPR2_GO2_Francisella tularensis','r') as f:\n",
    "    with open('/Users/thesis/Desktop/subgraph-mining-prep-G.txt','w') as w:\n",
    "        for line in f:\n",
    "            l = line.split('\\t')\n",
    "            if l[0] != 'Taxid_A':\n",
    "                w.write(l[3] + '\\t'+l[4] + '\\n')"
   ]
  }
 ],
 "metadata": {
  "kernelspec": {
   "display_name": "Python 3",
   "language": "python",
   "name": "python3"
  },
  "language_info": {
   "codemirror_mode": {
    "name": "ipython",
    "version": 3
   },
   "file_extension": ".py",
   "mimetype": "text/x-python",
   "name": "python",
   "nbconvert_exporter": "python",
   "pygments_lexer": "ipython3",
   "version": "3.6.1"
  }
 },
 "nbformat": 4,
 "nbformat_minor": 2
}
