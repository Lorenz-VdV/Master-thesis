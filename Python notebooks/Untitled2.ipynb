{
 "cells": [
  {
   "cell_type": "code",
   "execution_count": 4,
   "metadata": {},
   "outputs": [],
   "source": [
    "import pandas as pd\n",
    "import numpy as np\n",
    "import requests\n",
    "import argparse\n",
    "BASE = 'http://www.uniprot.org'\n",
    "KB_ENDPOINT = '/uniprot/'\n",
    "TOOL_ENDPOINT = '/uploadlists/'\n",
    "\n",
    "def map_retrieve(ids2map, source_fmt='ACC+ID',\n",
    "                 target_fmt='ACC', output_fmt='list'):\n",
    "    if hasattr(ids2map, 'pop'):\n",
    "        ids2map = ' '.join(ids2map)\n",
    "    payload = {'from': source_fmt,\n",
    "               'to': target_fmt,\n",
    "               'format': output_fmt,\n",
    "               'query': ids2map,\n",
    "               }\n",
    "    response = requests.get(BASE + TOOL_ENDPOINT, params=payload)\n",
    "    if response.ok:\n",
    "        return response.text\n",
    "    else:\n",
    "        response.raise_for_status()"
   ]
  },
  {
   "cell_type": "code",
   "execution_count": 7,
   "metadata": {},
   "outputs": [],
   "source": [
    "alt_id = map_retrieve('P62158')"
   ]
  },
  {
   "cell_type": "code",
   "execution_count": 8,
   "metadata": {},
   "outputs": [
    {
     "data": {
      "text/plain": [
       "['P0DP23', 'P0DP24', 'P0DP25']"
      ]
     },
     "execution_count": 8,
     "metadata": {},
     "output_type": "execute_result"
    }
   ],
   "source": [
    "alt_id.split()"
   ]
  },
  {
   "cell_type": "code",
   "execution_count": null,
   "metadata": {},
   "outputs": [],
   "source": [
    "Int_DB = pd.read_table(results.origin + species + '_IPR_GO',\n",
    "                            usecols=lambda x:x !=\"Unnamed: 0\")\n",
    "\n",
    "sel1 = Int_DB.ipr_a.isnull()\n",
    "sel2 = Int_DB.ipr_b.isnull()\n",
    "sel3 = Int_DB.go_a.isnull()\n",
    "sel4 = Int_DB.go_b.isnull()\n",
    "\n",
    "listA = Int_DB.loc[sel1|sel3,'protein_a'].unique()\n",
    "listB = Int_DB.loc[sel2|sel4,'protein_b'].unique()\n",
    "\n",
    "Int_DB['a_remapped_from'] = np.nan\n",
    "Int_DB['b_remapped_from'] = np.nan\n",
    "\n",
    "with open(results.target +species +' alt-ids-a.txt','w') as w:\n",
    "    for name in listA:\n",
    "        sel = Int_DB.protein_a == name\n",
    "        Int_DB.loc[sel,'a_remapped_from'] = name\n",
    "        alt_id = map_retrieve(name)\n",
    "        Int_DB.loc[sel,'protein_a'] = alt_id.strip()\n",
    "        w.write(name+ '\\t' + alt_id.strip() + '\\n')\n",
    "\n",
    "with open(results.target + species +' alt-ids-b.txt','w') as w:\n",
    "    for name in listB:\n",
    "        sel = Int_DB.protein_b == name\n",
    "        Int_DB.loc[sel,'b_remapped_from'] = name\n",
    "        alt_id = map_retrieve(name)\n",
    "        print(alt_id.strip())\n",
    "        Int_DB.loc[sel,'protein_b'] = alt_id.strip()\n",
    "        w.write(name + '\\t' + alt_id.strip() + '\\n')\n",
    "\n",
    "Int_DB.to_csv(results.target+ species + \"IPR_GO_Remap\", sep =\"\\t\")\n",
    "\n"
   ]
  }
 ],
 "metadata": {
  "kernelspec": {
   "display_name": "Python 3",
   "language": "python",
   "name": "python3"
  },
  "language_info": {
   "codemirror_mode": {
    "name": "ipython",
    "version": 3
   },
   "file_extension": ".py",
   "mimetype": "text/x-python",
   "name": "python",
   "nbconvert_exporter": "python",
   "pygments_lexer": "ipython3",
   "version": "3.6.1"
  }
 },
 "nbformat": 4,
 "nbformat_minor": 2
}
