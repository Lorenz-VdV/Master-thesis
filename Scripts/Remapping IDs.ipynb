{
 "cells": [
  {
   "cell_type": "code",
   "execution_count": 1,
   "metadata": {},
   "outputs": [],
   "source": [
    "#inlezen van datasets met interacties en bijhorende GO en IPR termen\n",
    "#controleren op entries zonder GO en/of IPR termen\n",
    "#remappen van deze entries en controle of geremapte ID wel GO en/of IPR termen geeft"
   ]
  },
  {
   "cell_type": "code",
   "execution_count": 2,
   "metadata": {},
   "outputs": [],
   "source": [
    "import pandas as pd\n",
    "import numpy as np\n",
    "import requests\n",
    "BASE = 'http://www.uniprot.org'\n",
    "KB_ENDPOINT = '/uniprot/'\n",
    "TOOL_ENDPOINT = '/uploadlists/'"
   ]
  },
  {
   "cell_type": "code",
   "execution_count": 3,
   "metadata": {},
   "outputs": [],
   "source": [
    "def map_retrieve(ids2map, source_fmt='ACC+ID',\n",
    "                 target_fmt='ACC', output_fmt='list'):\n",
    "    if hasattr(ids2map, 'pop'):\n",
    "        ids2map = ' '.join(ids2map)\n",
    "    payload = {'from': source_fmt,\n",
    "               'to': target_fmt,\n",
    "               'format': output_fmt,\n",
    "               'query': ids2map,\n",
    "               }\n",
    "    response = requests.get(BASE + TOOL_ENDPOINT, params=payload)\n",
    "    if response.ok:\n",
    "        return response.text\n",
    "    else:\n",
    "        response.raise_for_status()"
   ]
  },
  {
   "cell_type": "code",
   "execution_count": 4,
   "metadata": {},
   "outputs": [],
   "source": [
    "species = 'Francisella tularensis'"
   ]
  },
  {
   "cell_type": "code",
   "execution_count": 5,
   "metadata": {},
   "outputs": [],
   "source": [
    "Int_DB = pd.read_table('/Users/thesis/Desktop/Int_DB_IPR_GO_' + species, usecols=lambda x:x !=\"Unnamed: 0\")"
   ]
  },
  {
   "cell_type": "code",
   "execution_count": 6,
   "metadata": {},
   "outputs": [],
   "source": [
    "sel1 = Int_DB.IPR_A.isnull()\n",
    "sel2 = Int_DB.IPR_B.isnull()\n",
    "sel3 = Int_DB.GO_A.isnull()\n",
    "sel4 = Int_DB.GO_B.isnull()"
   ]
  },
  {
   "cell_type": "code",
   "execution_count": 7,
   "metadata": {},
   "outputs": [],
   "source": [
    "listA = Int_DB.loc[sel1|sel3,'Protein_A'].unique()\n",
    "listB = Int_DB.loc[sel2|sel4,'Protein_B'].unique()\n",
    "#Int_DB.Protein_A = Int_DB.Protein_A.apply(lambda x: [x])\n",
    "#Int_DB.Protein_B = Int_DB.Protein_B.apply(lambda x: [x])\n",
    "Int_DB['A_remapped_from'] =np.nan\n",
    "Int_DB['B_remapped_from'] = np.nan\n",
    "#print(listA)\n",
    "#print(listB)"
   ]
  },
  {
   "cell_type": "code",
   "execution_count": 8,
   "metadata": {},
   "outputs": [],
   "source": [
    "with open('/Users/thesis/Desktop/multiple_alt_ids_A.txt','w') as w:\n",
    "    for name in listA:\n",
    "        sel = Int_DB.Protein_A == name\n",
    "        Int_DB.loc[sel,'A_remapped_from'] = name\n",
    "        alt_id = map_retrieve(name)\n",
    "        Int_DB.loc[sel,'Protein_A'] = map_retrieve(name).strip()\n",
    "        if len(alt_id.split())>1:\n",
    "            w.write(name+ '\\t' + alt_id + '\\n')"
   ]
  },
  {
   "cell_type": "code",
   "execution_count": 9,
   "metadata": {},
   "outputs": [],
   "source": [
    "with open('/Users/thesis/Desktop/multiple_alt_ids_B.txt','w') as w:\n",
    "    for name in listB:\n",
    "        sel = Int_DB.Protein_B == name\n",
    "        Int_DB.loc[sel,'B_remapped_from'] = name\n",
    "        alt_id = map_retrieve(name)\n",
    "        Int_DB.loc[sel,'Protein_B'] = alt_id.strip()\n",
    "        if len(alt_id.split())>1:\n",
    "            w.write(name + '\\t' + alt_id + '\\n')"
   ]
  },
  {
   "cell_type": "code",
   "execution_count": 10,
   "metadata": {},
   "outputs": [],
   "source": [
    "#inspection of the entries which have been written out to the txt file resulted in the decision to remap:\n",
    "#P62158 to P0DP25\n",
    "#O95766 to P86791\n",
    "#P08107 to P0DMV9\n",
    "\n",
    "to_remap=['P62158','O95766','P08107']\n",
    "goal_id=['P0DP25','P86791','P0DMV9']\n",
    "for i in range (3):\n",
    "    sel = Int_DB.B_remapped_from == to_remap[i]\n",
    "    Int_DB.loc[sel,'Protein_B'] = goal_id[i]"
   ]
  },
  {
   "cell_type": "code",
   "execution_count": 11,
   "metadata": {},
   "outputs": [],
   "source": [
    "Int_DB.to_csv(\"/Users/thesis/Desktop/Int_DB_IPR_GO_Remap_\" + species, sep =\"\\t\")"
   ]
  },
  {
   "cell_type": "code",
   "execution_count": null,
   "metadata": {},
   "outputs": [],
   "source": []
  }
 ],
 "metadata": {
  "kernelspec": {
   "display_name": "Python 3",
   "language": "python",
   "name": "python3"
  },
  "language_info": {
   "codemirror_mode": {
    "name": "ipython",
    "version": 3
   },
   "file_extension": ".py",
   "mimetype": "text/x-python",
   "name": "python",
   "nbconvert_exporter": "python",
   "pygments_lexer": "ipython3",
   "version": "3.6.1"
  }
 },
 "nbformat": 4,
 "nbformat_minor": 2
}
