{
 "cells": [
  {
   "cell_type": "code",
   "execution_count": 28,
   "metadata": {},
   "outputs": [],
   "source": [
    "species = 'Francisella tularensis'"
   ]
  },
  {
   "cell_type": "code",
   "execution_count": 29,
   "metadata": {},
   "outputs": [],
   "source": [
    "Int_DB = pd.read_table('/Users/thesis/Desktop/Google drive/thesis-lorenz/Work in progress.../Databases/Extracted datasets/' + species,usecols=lambda x:x !=\"Unnamed: 0\")"
   ]
  },
  {
   "cell_type": "code",
   "execution_count": 30,
   "metadata": {},
   "outputs": [],
   "source": [
    "with open('/Users/thesis/Desktop/Google drive/thesis-lorenz/Work in progress.../Databases/Extracted datasets/' + species,'r') as f:\n",
    "    with open('/Users/thesis/Desktop/subgraph-mining-prep-int.txt','w') as w:\n",
    "        for line in f:\n",
    "            l = line.split()\n",
    "            if l[0] != 'Taxid_A':\n",
    "                w.write(l[3] + '\\t'+l[4] + '\\n')\n",
    "              \n",
    "            "
   ]
  },
  {
   "cell_type": "code",
   "execution_count": null,
   "metadata": {},
   "outputs": [],
   "source": []
  }
 ],
 "metadata": {
  "kernelspec": {
   "display_name": "Python 3",
   "language": "python",
   "name": "python3"
  },
  "language_info": {
   "codemirror_mode": {
    "name": "ipython",
    "version": 3
   },
   "file_extension": ".py",
   "mimetype": "text/x-python",
   "name": "python",
   "nbconvert_exporter": "python",
   "pygments_lexer": "ipython3",
   "version": "3.6.1"
  }
 },
 "nbformat": 4,
 "nbformat_minor": 2
}
