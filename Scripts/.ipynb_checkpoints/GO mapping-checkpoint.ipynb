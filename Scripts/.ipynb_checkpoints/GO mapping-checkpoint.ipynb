{
 "cells": [
  {
   "cell_type": "code",
   "execution_count": 6,
   "metadata": {},
   "outputs": [],
   "source": [
    "import pandas as pd\n",
    "import numpy as np\n",
    "import os\n",
    "import xlwt\n",
    "import re"
   ]
  },
  {
   "cell_type": "code",
   "execution_count": 7,
   "metadata": {},
   "outputs": [],
   "source": [
    "GO = open(\"/Users/thesis/Desktop/Google Drive/thesis-lorenz/Work in progress.../Databases/GO/go-basic.obo\", 'r')"
   ]
  },
  {
   "cell_type": "code",
   "execution_count": 8,
   "metadata": {},
   "outputs": [],
   "source": [
    "Gene_entry =[]\n",
    "all_entries =[]\n",
    "relations=[]\n",
    "GO_pattern=re.compile(r'GO:[0-9]*')"
   ]
  },
  {
   "cell_type": "code",
   "execution_count": 9,
   "metadata": {},
   "outputs": [],
   "source": [
    "for line in GO:\n",
    "    newentry = False\n",
    "    x = line.split()\n",
    "    if x !=[]:\n",
    "            if x[0] == r'[Term]':\n",
    "                Gene_entry.append(x[0])\n",
    "            if x[0] == 'id:':\n",
    "                Gene_entry.append(x[1])\n",
    "            elif x[0] == 'name:':\n",
    "                string=''\n",
    "                for i in range(1,len(x)):\n",
    "                    string = string + x[i] + ' '\n",
    "                Gene_entry.append(string)\n",
    "            elif x[0] == 'namespace:':\n",
    "                Gene_entry.append(x[1])\n",
    "            elif x[0] == 'is_a:':\n",
    "                for i in range(1,len(x)):\n",
    "                    if GO_pattern.match(x[i]):\n",
    "                        relations.append(x[i])\n",
    "            elif x[0] == 'is_obsolete:':\n",
    "                Gene_entry.append(['obsolete'])\n",
    "            else:\n",
    "                continue\n",
    "    else:\n",
    "        if Gene_entry != []:\n",
    "            if relations != []:\n",
    "                Gene_entry.append(relations)\n",
    "            if Gene_entry[0] == r'[Term]':\n",
    "                all_entries.append((Gene_entry[1],Gene_entry[2:]))\n",
    "                Gene_entry =[]\n",
    "                relations=[]"
   ]
  },
  {
   "cell_type": "code",
   "execution_count": 10,
   "metadata": {},
   "outputs": [],
   "source": [
    "GO_entries = dict(all_entries)"
   ]
  },
  {
   "cell_type": "markdown",
   "metadata": {},
   "source": [
    "Creating ID-name lookup functions"
   ]
  },
  {
   "cell_type": "code",
   "execution_count": 11,
   "metadata": {},
   "outputs": [],
   "source": [
    "def Find_GO_name (GO_ID):\n",
    "    return GO_entries[GO_ID][0]\n",
    "\n",
    "def Find_GO_ID (GO_name):\n",
    "    for key in GO_entries.keys():\n",
    "        if GO_name == GO_entries[key][0]:\n",
    "            return key"
   ]
  },
  {
   "cell_type": "markdown",
   "metadata": {},
   "source": [
    "Creating parent-child lookup functions"
   ]
  },
  {
   "cell_type": "code",
   "execution_count": 12,
   "metadata": {},
   "outputs": [
    {
     "data": {
      "text/plain": [
       "['GO:0003674', 'GO:0005575', 'GO:0008150']"
      ]
     },
     "execution_count": 12,
     "metadata": {},
     "output_type": "execute_result"
    }
   ],
   "source": [
    "root=[Find_GO_ID('molecular_function '), Find_GO_ID('cellular_component '), Find_GO_ID('biological_process ')]\n",
    "root"
   ]
  },
  {
   "cell_type": "code",
   "execution_count": 13,
   "metadata": {},
   "outputs": [],
   "source": [
    "Map_list = []\n",
    "\n",
    "for key in GO_entries.keys():\n",
    "    if key not in root:\n",
    "        Map_list.append((key,GO_entries[key][2]))\n",
    " "
   ]
  },
  {
   "cell_type": "code",
   "execution_count": 14,
   "metadata": {},
   "outputs": [],
   "source": [
    "GO_Parents = dict(Map_list)\n",
    "for key in root:\n",
    "    GO_Parents[key]=[key]"
   ]
  },
  {
   "cell_type": "markdown",
   "metadata": {},
   "source": [
    "def Find_Parent (GO_ID, levels) => Input is GO_ID en hoeveel 'niveaus' je hoger wilt gaan kijken; output zou dan een lijst moeten zijn met alle termen die 'levels' aantal niveaus hoger liggen\n",
    "\n",
    "comment : idealiter gezien wil je het pad tussenchild en parent ook zien maar dat heb ik nog niet gevonden xD Ik vermoed da je deze fct wel kan gebruiken daarvoor maar eerst de deze maken :p"
   ]
  },
  {
   "cell_type": "code",
   "execution_count": 15,
   "metadata": {},
   "outputs": [],
   "source": [
    "def Find_Parent(GO_ID, levels):\n",
    "    if GO_Parents[GO_ID] == ['obsolete']:\n",
    "        return 'This GO ID is obsolete'\n",
    "    Child_list = []\n",
    "    Parent_list = [GO_ID]\n",
    "    for x in range(0,levels):\n",
    "        print (Parent_list)\n",
    "        Child_list = Parent_list\n",
    "        Parent_list =[]\n",
    "        print (Child_list)\n",
    "        for y in range(0,len(Child_list)):\n",
    "            Child = Child_list[y]\n",
    "            Parents = GO_Parents[Child]\n",
    "            for z in range(0,len(Parents)):\n",
    "                Parent_list.append(Parents[z])\n",
    "    return Parent_list\n",
    "        "
   ]
  },
  {
   "cell_type": "code",
   "execution_count": 35,
   "metadata": {},
   "outputs": [],
   "source": [
    "def Find_Child(GO_ID,levels):\n",
    "    if GO_Parents[GO_ID] == ['obsolete']:\n",
    "        return 'This GO ID is obsolete'\n",
    "    Child_list = [GO_ID]\n",
    "    Parent_list = []\n",
    "    for x in range(0,levels):\n",
    "        print (Child_list)\n",
    "        Parent_list = Child_list\n",
    "        Child_list =[]\n",
    "        print (Parent_list)\n",
    "        for y in range(0,len(Parent_list)):\n",
    "            Parent = Parent_list[y]\n",
    "            for key in GO_Parents.keys():\n",
    "                if Parent in GO_Parents[key]:\n",
    "                    Child_list.append(key)\n",
    "    if Child_list != []:\n",
    "        return Child_list\n",
    "    else:\n",
    "        return Parent_list"
   ]
  },
  {
   "cell_type": "code",
   "execution_count": 37,
   "metadata": {},
   "outputs": [
    {
     "name": "stdout",
     "output_type": "stream",
     "text": [
      "['GO:0000399']\n",
      "['GO:0000399']\n"
     ]
    },
    {
     "data": {
      "text/plain": [
       "['GO:0000144', 'GO:0032174', 'GO:0032177']"
      ]
     },
     "execution_count": 37,
     "metadata": {},
     "output_type": "execute_result"
    }
   ],
   "source": [
    "Find_Child('GO:0000399',1)"
   ]
  },
  {
   "cell_type": "code",
   "execution_count": 261,
   "metadata": {},
   "outputs": [],
   "source": [
    "GO.close()"
   ]
  }
 ],
 "metadata": {
  "kernelspec": {
   "display_name": "Python 3",
   "language": "python",
   "name": "python3"
  },
  "language_info": {
   "codemirror_mode": {
    "name": "ipython",
    "version": 3
   },
   "file_extension": ".py",
   "mimetype": "text/x-python",
   "name": "python",
   "nbconvert_exporter": "python",
   "pygments_lexer": "ipython3",
   "version": "3.6.1"
  }
 },
 "nbformat": 4,
 "nbformat_minor": 2
}
