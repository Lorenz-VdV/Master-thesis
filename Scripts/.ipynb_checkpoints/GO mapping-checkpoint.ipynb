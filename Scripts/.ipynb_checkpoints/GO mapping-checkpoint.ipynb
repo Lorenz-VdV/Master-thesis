{
 "cells": [
  {
   "cell_type": "code",
   "execution_count": 96,
   "metadata": {},
   "outputs": [],
   "source": [
    "import pandas as pd\n",
    "import numpy as np\n",
    "import os\n",
    "import xlwt\n",
    "import re"
   ]
  },
  {
   "cell_type": "code",
   "execution_count": 97,
   "metadata": {},
   "outputs": [],
   "source": [
    "GO = open(\"/Users/thesis/Desktop/Google Drive/thesis-lorenz/Work in progress.../Databases/GO/go-basic.obo\", 'r')"
   ]
  },
  {
   "cell_type": "code",
   "execution_count": 98,
   "metadata": {},
   "outputs": [],
   "source": [
    "Gene_entry =[]\n",
    "all_entries =[]\n",
    "relations=[]\n",
    "GO_pattern=re.compile(r'GO:[0-9]*')"
   ]
  },
  {
   "cell_type": "code",
   "execution_count": 99,
   "metadata": {},
   "outputs": [],
   "source": [
    "for line in GO:\n",
    "    newentry = False\n",
    "    x = line.split()\n",
    "    if x !=[]:\n",
    "            if x[0] == r'[Term]':\n",
    "                Gene_entry.append(x[0])\n",
    "            if x[0] == 'id:':\n",
    "                Gene_entry.append(x[1])\n",
    "            elif x[0] == 'name:':\n",
    "                string=''\n",
    "                for i in range(1,len(x)):\n",
    "                    string = string + x[i] + ' '\n",
    "                Gene_entry.append(string)\n",
    "            elif x[0] == 'namespace:':\n",
    "                Gene_entry.append(x[1])\n",
    "            elif x[0] == 'is_a:':\n",
    "                for i in range(1,len(x)):\n",
    "                    if GO_pattern.match(x[i]):\n",
    "                        relations.append(x[i])\n",
    "            elif x[0] == 'is_obsolete:':\n",
    "                Gene_entry.append(['obsolete'])\n",
    "            else:\n",
    "                continue\n",
    "    else:\n",
    "        if Gene_entry != []:\n",
    "            if relations != []:\n",
    "                Gene_entry.append(relations)\n",
    "            if Gene_entry[0] == r'[Term]':\n",
    "                all_entries.append((Gene_entry[1],Gene_entry[2:]))\n",
    "                Gene_entry =[]\n",
    "                relations=[]"
   ]
  },
  {
   "cell_type": "code",
   "execution_count": 100,
   "metadata": {},
   "outputs": [],
   "source": [
    "GO_entries = dict(all_entries)"
   ]
  },
  {
   "cell_type": "markdown",
   "metadata": {},
   "source": [
    "Creating ID-name lookup functions"
   ]
  },
  {
   "cell_type": "code",
   "execution_count": 101,
   "metadata": {},
   "outputs": [],
   "source": [
    "def Find_GO_name (GO_ID):\n",
    "    return GO_entries[GO_ID][0]\n",
    "\n",
    "def Find_GO_ID (GO_name):\n",
    "    for key in GO_entries.keys():\n",
    "        if GO_name == GO_entries[key][0]:\n",
    "            return key"
   ]
  },
  {
   "cell_type": "markdown",
   "metadata": {},
   "source": [
    "Creating parent-child lookup functions"
   ]
  },
  {
   "cell_type": "code",
   "execution_count": 102,
   "metadata": {},
   "outputs": [
    {
     "data": {
      "text/plain": [
       "['GO:0003674', 'GO:0005575', 'GO:0008150']"
      ]
     },
     "execution_count": 102,
     "metadata": {},
     "output_type": "execute_result"
    }
   ],
   "source": [
    "root=[Find_GO_ID('molecular_function '), Find_GO_ID('cellular_component '), Find_GO_ID('biological_process ')]\n",
    "root"
   ]
  },
  {
   "cell_type": "code",
   "execution_count": 103,
   "metadata": {},
   "outputs": [],
   "source": [
    "Map_list = []\n",
    "\n",
    "for key in GO_entries.keys():\n",
    "    if key not in root:\n",
    "        Map_list.append((key,GO_entries[key][2]))\n",
    " "
   ]
  },
  {
   "cell_type": "code",
   "execution_count": 104,
   "metadata": {},
   "outputs": [],
   "source": [
    "GO_Parents = dict(Map_list)\n",
    "for key in root:\n",
    "    GO_Parents[key]=[key]"
   ]
  },
  {
   "cell_type": "markdown",
   "metadata": {},
   "source": [
    "def Find_Parent (GO_ID, levels) => Input is GO_ID en hoeveel 'niveaus' je hoger wilt gaan kijken; output zou dan een lijst moeten zijn met alle termen die 'levels' aantal niveaus hoger liggen\n",
    "\n",
    "comment : idealiter gezien wil je het pad tussenchild en parent ook zien maar dat heb ik nog niet gevonden xD Ik vermoed da je deze fct wel kan gebruiken daarvoor maar eerst de deze maken :p"
   ]
  },
  {
   "cell_type": "code",
   "execution_count": 105,
   "metadata": {},
   "outputs": [],
   "source": [
    "def Find_Parent(GO_ID, levels):\n",
    "    if GO_Parents[GO_ID] == ['obsolete']:\n",
    "        return 'This GO ID is obsolete'\n",
    "    Child_list = []\n",
    "    Parent_list = [GO_ID]\n",
    "    for x in range(0,levels):\n",
    "        print (Parent_list)\n",
    "        Child_list = Parent_list\n",
    "        Parent_list =[]\n",
    "        print (Child_list)\n",
    "        for y in range(0,len(Child_list)):\n",
    "            Child = Child_list[y]\n",
    "            Parents = GO_Parents[Child]\n",
    "            for z in range(0,len(Parents)):\n",
    "                Parent_list.append(Parents[z])\n",
    "    return Parent_list\n",
    "        "
   ]
  },
  {
   "cell_type": "code",
   "execution_count": 109,
   "metadata": {},
   "outputs": [
    {
     "name": "stdout",
     "output_type": "stream",
     "text": [
      "['GO:0005642']\n",
      "['GO:0005642']\n",
      "['GO:0044464', 'GO:0098589']\n",
      "['GO:0044464', 'GO:0098589']\n",
      "['GO:0005575', 'GO:0016020', 'GO:0044425']\n",
      "['GO:0005575', 'GO:0016020', 'GO:0044425']\n",
      "['GO:0005575', 'GO:0005575', 'GO:0005575']\n",
      "['GO:0005575', 'GO:0005575', 'GO:0005575']\n",
      "['GO:0005575', 'GO:0005575', 'GO:0005575']\n",
      "['GO:0005575', 'GO:0005575', 'GO:0005575']\n",
      "['GO:0005575', 'GO:0005575', 'GO:0005575']\n",
      "['GO:0005575', 'GO:0005575', 'GO:0005575']\n"
     ]
    },
    {
     "data": {
      "text/plain": [
       "['GO:0005575', 'GO:0005575', 'GO:0005575']"
      ]
     },
     "execution_count": 109,
     "metadata": {},
     "output_type": "execute_result"
    }
   ],
   "source": [
    "Find_Parent('GO:0005642',6)"
   ]
  },
  {
   "cell_type": "code",
   "execution_count": 261,
   "metadata": {},
   "outputs": [],
   "source": [
    "GO.close()"
   ]
  }
 ],
 "metadata": {
  "kernelspec": {
   "display_name": "Python 3",
   "language": "python",
   "name": "python3"
  },
  "language_info": {
   "codemirror_mode": {
    "name": "ipython",
    "version": 3
   },
   "file_extension": ".py",
   "mimetype": "text/x-python",
   "name": "python",
   "nbconvert_exporter": "python",
   "pygments_lexer": "ipython3",
   "version": "3.6.1"
  }
 },
 "nbformat": 4,
 "nbformat_minor": 2
}
