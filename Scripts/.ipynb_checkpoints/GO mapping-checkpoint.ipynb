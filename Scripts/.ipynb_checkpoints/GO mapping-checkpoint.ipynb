{
 "cells": [
  {
   "cell_type": "code",
   "execution_count": 1,
   "metadata": {},
   "outputs": [],
   "source": [
    "import pandas as pd\n",
    "import numpy as np\n",
    "import os\n",
    "import xlwt\n",
    "import re"
   ]
  },
  {
   "cell_type": "code",
   "execution_count": 2,
   "metadata": {},
   "outputs": [],
   "source": [
    "GO = open(\"/Users/thesis/Desktop/Google Drive/thesis-lorenz/Work in progress.../Databases/GO/go-basic.obo\", 'r')"
   ]
  },
  {
   "cell_type": "code",
   "execution_count": 3,
   "metadata": {},
   "outputs": [],
   "source": [
    "Gene_entry =[]\n",
    "all_entries =[]\n",
    "relations=[]\n",
    "GO_pattern=re.compile(r'GO:[0-9]*')"
   ]
  },
  {
   "cell_type": "code",
   "execution_count": 4,
   "metadata": {},
   "outputs": [],
   "source": [
    "for line in GO:\n",
    "    newentry = False\n",
    "    x = line.split()\n",
    "    if x !=[]:\n",
    "            if x[0] == r'[Term]':\n",
    "                Gene_entry.append(x[0])\n",
    "            if x[0] == 'id:':\n",
    "                Gene_entry.append(x[1])\n",
    "            elif x[0] == 'name:':\n",
    "                string=''\n",
    "                for i in range(1,len(x)):\n",
    "                    string = string + x[i] + ' '\n",
    "                Gene_entry.append(string)\n",
    "            elif x[0] == 'namespace:':\n",
    "                Gene_entry.append(x[1])\n",
    "            elif x[0] == 'is_a:':\n",
    "                for i in range(1,len(x)):\n",
    "                    if GO_pattern.match(x[i]):\n",
    "                        relations.append(x[i])\n",
    "            elif x[0] == 'is_obsolete:':\n",
    "                Gene_entry.append(['obsolete'])\n",
    "            else:\n",
    "                continue\n",
    "    else:\n",
    "        if Gene_entry != []:\n",
    "            if relations != []:\n",
    "                Gene_entry.append(relations)\n",
    "            if Gene_entry[0] == r'[Term]':\n",
    "                all_entries.append((Gene_entry[1],Gene_entry[2:]))\n",
    "                Gene_entry =[]\n",
    "                relations=[]"
   ]
  },
  {
   "cell_type": "code",
   "execution_count": 5,
   "metadata": {},
   "outputs": [],
   "source": [
    "GO_entries = dict(all_entries)"
   ]
  },
  {
   "cell_type": "markdown",
   "metadata": {},
   "source": [
    "Creating ID-name lookup functions"
   ]
  },
  {
   "cell_type": "code",
   "execution_count": 6,
   "metadata": {},
   "outputs": [],
   "source": [
    "def Find_GO_name (GO_ID):\n",
    "    return GO_entries[GO_ID][0]\n",
    "\n",
    "def Find_GO_ID (GO_name):\n",
    "    for key in GO_entries.keys():\n",
    "        if GO_name == GO_entries[key][0]:\n",
    "            return key"
   ]
  },
  {
   "cell_type": "markdown",
   "metadata": {},
   "source": [
    "Creating parent-child lookup functions"
   ]
  },
  {
   "cell_type": "code",
   "execution_count": 7,
   "metadata": {},
   "outputs": [],
   "source": [
    "root=[Find_GO_ID('molecular_function '), Find_GO_ID('cellular_component '), Find_GO_ID('biological_process ')]"
   ]
  },
  {
   "cell_type": "code",
   "execution_count": 8,
   "metadata": {},
   "outputs": [],
   "source": [
    "Map_list = []\n",
    "\n",
    "for key in GO_entries.keys():\n",
    "    if key not in root:\n",
    "        Map_list.append((key,GO_entries[key][2]))\n",
    " "
   ]
  },
  {
   "cell_type": "code",
   "execution_count": 9,
   "metadata": {},
   "outputs": [],
   "source": [
    "GO_Parents = dict(Map_list)\n",
    "for key in root:\n",
    "    GO_Parents[key]=[key]"
   ]
  },
  {
   "cell_type": "markdown",
   "metadata": {},
   "source": [
    "def Find_Parent (GO_ID, levels) => Input is GO_ID en hoeveel 'niveaus' je hoger wilt gaan kijken; output zou dan een lijst moeten zijn met alle termen die 'levels' aantal niveaus hoger liggen\n",
    "Modification invoeren => MAppen naar termen met afstand x van de root\n",
    "\n",
    "comment : idealiter gezien wil je het pad tussenchild en parent ook zien maar dat heb ik nog niet gevonden xD Ik vermoed da je deze fct wel kan gebruiken daarvoor maar eerst de deze maken :p"
   ]
  },
  {
   "cell_type": "code",
   "execution_count": 10,
   "metadata": {},
   "outputs": [],
   "source": [
    "def Find_Parent(GO_ID, levels):\n",
    "    if GO_Parents[GO_ID] == ['obsolete']:\n",
    "        return 'This GO ID is obsolete'\n",
    "    Child_list = []\n",
    "    Parent_list = [GO_ID]\n",
    "    for x in range(0,levels):\n",
    "        Child_list = Parent_list\n",
    "        Parent_list =[]\n",
    "        for y in range(0,len(Child_list)):\n",
    "            Child = Child_list[y]\n",
    "            Parents = GO_Parents[Child]\n",
    "            for z in range(0,len(Parents)):\n",
    "                Parent_list.append(Parents[z])\n",
    "            #print(Child_list)\n",
    "            #print (Parent_list)\n",
    "    return Parent_list\n",
    "        "
   ]
  },
  {
   "cell_type": "markdown",
   "metadata": {},
   "source": [
    "Find_Parent('GO:0000001',3) => Geen probleem met lijsten => Parent_list gets appended but child list stays unchanged"
   ]
  },
  {
   "cell_type": "code",
   "execution_count": 11,
   "metadata": {},
   "outputs": [],
   "source": [
    "def Find_Child(GO_ID,levels):\n",
    "    if GO_Parents[GO_ID] == ['obsolete']:\n",
    "        return 'This GO ID is obsolete'\n",
    "    Child_list = [GO_ID]\n",
    "    Parent_list = []\n",
    "    specific_child_list=[]\n",
    "    for x in range(0,levels):\n",
    "        Parent_list = Child_list\n",
    "        Child_list =[]\n",
    "        for Parent in Parent_list:\n",
    "            for key in GO_Parents.keys():\n",
    "                if Parent in GO_Parents[key]:\n",
    "                    specific_child_list.append(key)\n",
    "            if specific_child_list != []:\n",
    "                for term in specific_child_list:\n",
    "                    Child_list.append(term)\n",
    "            else:\n",
    "                Child_list.append(Parent)\n",
    "                \n",
    "    return Child_list"
   ]
  },
  {
   "cell_type": "code",
   "execution_count": 12,
   "metadata": {},
   "outputs": [],
   "source": [
    "def Assign_depth():\n",
    "    for GO_ID in GO_entries.keys():\n",
    "        if GO_Parents[GO_ID] == ['obsolete']:\n",
    "            continue\n",
    "        root_term = False\n",
    "        depth =0\n",
    "        inp=[GO_ID]\n",
    "        outp=[]\n",
    "        \n",
    "        while not root_term:\n",
    "            depth = depth +1\n",
    "            for term in inp:\n",
    "                for parent in Find_Parent(term,1):\n",
    "                    outp.append(parent)\n",
    "            \n",
    "                for word in root:\n",
    "                    if word in outp:\n",
    "                        root_term = True\n",
    "            inp = list(pd.unique(outp[:]))\n",
    "            outp=[]\n",
    "            \n",
    "        GO_entries[GO_ID].append(depth)\n",
    "    \n",
    "    \n",
    "    "
   ]
  },
  {
   "cell_type": "code",
   "execution_count": 13,
   "metadata": {},
   "outputs": [],
   "source": [
    "Assign_depth()"
   ]
  },
  {
   "cell_type": "code",
   "execution_count": 14,
   "metadata": {},
   "outputs": [],
   "source": [
    "for key in root:\n",
    "    GO_entries[key]=GO_entries[key][:2]\n",
    "    GO_entries[key].append(0)"
   ]
  },
  {
   "cell_type": "code",
   "execution_count": 16,
   "metadata": {},
   "outputs": [],
   "source": [
    "def Remap (GO_ID, goal_depth):\n",
    "    \n",
    "#Tackling special situations\n",
    "    if goal_depth == 0:\n",
    "        return Find_GO_ID(GO_entries[GO_ID][2])\n",
    "    \n",
    "    if GO_Parents[GO_ID] == ['obsolete']:\n",
    "        return ('This term is obsolete')\n",
    "    \n",
    "    if goal_depth < 0:\n",
    "        return (\"goal_depth can't be a negative integer\")\n",
    "    \n",
    "#Determining max depth    \n",
    "    depth_list=[]\n",
    "    for key in GO_entries.keys():\n",
    "        if key in root:\n",
    "            depth_list.append(0)\n",
    "        else:\n",
    "            if GO_Parents[key] != ['obsolete']:\n",
    "                depth_list.append(GO_entries[key][3])\n",
    "    max_depth = max(pd.unique(depth_list))\n",
    "    if goal_depth > max_depth:\n",
    "        return ('max depth in the GO DAG is '+ str(max_depth))\n",
    "    \n",
    "#Determining depth of given term    \n",
    "    if GO_ID in root:\n",
    "        init_depth=0\n",
    "    else:\n",
    "        init_depth = GO_entries[GO_ID][3]\n",
    "#trivial anwser\n",
    "    if goal_depth == init_depth:\n",
    "        return GO_ID\n",
    "#diff < 0 means goal depth is more specific thus we need to find all child terms at goal depth\n",
    "#diff>0 means goal depth is more general thus we need to find parents at goal depth\n",
    "    else:\n",
    "        diff = init_depth - goal_depth\n",
    "        if diff < 0: #MAG NIET!!!! Voer check in met waarschuwing\n",
    "            outlist= []\n",
    "            for i in range(0,(abs(diff-init_depth))):\n",
    "                test= Find_Child(GO_ID,i)\n",
    "                for annotation in test:\n",
    "                    if GO_entries[annotation][3] == goal_depth:\n",
    "                        outlist.append(annotation)\n",
    "            return list(pd.unique(outlist))\n",
    "        elif diff>0:\n",
    "            out_list=[]\n",
    "            for i in range(0,init_depth):\n",
    "                to_test = Find_Parent(GO_ID,i)\n",
    "                for term in to_test:\n",
    "                    if GO_entries[term][3] == goal_depth:\n",
    "                        out_list.append(term)\n",
    "            return list(pd.unique(out_list))\n",
    "                    \n",
    "                        \n",
    "                \n",
    "        \n",
    "            "
   ]
  },
  {
   "cell_type": "code",
   "execution_count": 25,
   "metadata": {},
   "outputs": [
    {
     "data": {
      "text/plain": [
       "['GO:0090554', 'GO:0090555', 'GO:0090556', 'GO:0099038']"
      ]
     },
     "execution_count": 25,
     "metadata": {},
     "output_type": "execute_result"
    }
   ],
   "source": [
    "Remap('GO:0004012',5)"
   ]
  },
  {
   "cell_type": "code",
   "execution_count": 21,
   "metadata": {},
   "outputs": [],
   "source": [
    "GO.close()"
   ]
  }
 ],
 "metadata": {
  "kernelspec": {
   "display_name": "Python 3",
   "language": "python",
   "name": "python3"
  },
  "language_info": {
   "codemirror_mode": {
    "name": "ipython",
    "version": 3
   },
   "file_extension": ".py",
   "mimetype": "text/x-python",
   "name": "python",
   "nbconvert_exporter": "python",
   "pygments_lexer": "ipython3",
   "version": "3.6.1"
  }
 },
 "nbformat": 4,
 "nbformat_minor": 2
}
