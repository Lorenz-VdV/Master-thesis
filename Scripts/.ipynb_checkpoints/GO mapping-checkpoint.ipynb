{
 "cells": [
  {
   "cell_type": "code",
   "execution_count": 1,
   "metadata": {},
   "outputs": [],
   "source": [
    "import pandas as pd\n",
    "import numpy as np\n",
    "import os\n",
    "import xlwt\n",
    "import re"
   ]
  },
  {
   "cell_type": "code",
   "execution_count": 2,
   "metadata": {},
   "outputs": [],
   "source": [
    "GO = open(\"/Users/thesis/Desktop/Google Drive/thesis-lorenz/Work in progress.../Databases/GO/go-basic.obo\", 'r')"
   ]
  },
  {
   "cell_type": "code",
   "execution_count": 3,
   "metadata": {},
   "outputs": [],
   "source": [
    "Gene_entry =[]\n",
    "all_entries =[]\n",
    "relations=[]\n",
    "GO_pattern=re.compile(r'GO:[0-9]*')"
   ]
  },
  {
   "cell_type": "code",
   "execution_count": 4,
   "metadata": {},
   "outputs": [],
   "source": [
    "for line in GO:\n",
    "    newentry = False\n",
    "    x = line.split()\n",
    "    if x !=[]:\n",
    "            if x[0] == r'[Term]':\n",
    "                Gene_entry.append(x[0])\n",
    "            if x[0] == 'id:':\n",
    "                Gene_entry.append(x[1])\n",
    "            elif x[0] == 'name:':\n",
    "                string=''\n",
    "                for i in range(1,len(x)):\n",
    "                    string = string + x[i] + ' '\n",
    "                Gene_entry.append(string)\n",
    "            elif x[0] == 'namespace:':\n",
    "                Gene_entry.append(x[1])\n",
    "            elif x[0] == 'is_a:':\n",
    "                for i in range(1,len(x)):\n",
    "                    if GO_pattern.match(x[i]):\n",
    "                        relations.append(x[i])\n",
    "            elif x[0] == 'is_obsolete:':\n",
    "                Gene_entry.append(['obsolete'])\n",
    "            else:\n",
    "                continue\n",
    "    else:\n",
    "        if Gene_entry != []:\n",
    "            if relations != []:\n",
    "                Gene_entry.append(relations)\n",
    "            if Gene_entry[0] == r'[Term]':\n",
    "                all_entries.append((Gene_entry[1],Gene_entry[2:]))\n",
    "                Gene_entry =[]\n",
    "                relations=[]"
   ]
  },
  {
   "cell_type": "code",
   "execution_count": 5,
   "metadata": {},
   "outputs": [],
   "source": [
    "GO_entries = dict(all_entries)"
   ]
  },
  {
   "cell_type": "markdown",
   "metadata": {},
   "source": [
    "Creating ID-name lookup functions"
   ]
  },
  {
   "cell_type": "code",
   "execution_count": 6,
   "metadata": {},
   "outputs": [],
   "source": [
    "def Find_GO_name (GO_ID):\n",
    "    return GO_entries[GO_ID][0]\n",
    "\n",
    "def Find_GO_ID (GO_name):\n",
    "    for key in GO_entries.keys():\n",
    "        if GO_name == GO_entries[key][0]:\n",
    "            return key"
   ]
  },
  {
   "cell_type": "markdown",
   "metadata": {},
   "source": [
    "Creating parent-child lookup functions"
   ]
  },
  {
   "cell_type": "code",
   "execution_count": 7,
   "metadata": {},
   "outputs": [],
   "source": [
    "root=[Find_GO_ID('molecular_function '), Find_GO_ID('cellular_component '), Find_GO_ID('biological_process ')]"
   ]
  },
  {
   "cell_type": "code",
   "execution_count": 8,
   "metadata": {},
   "outputs": [],
   "source": [
    "Map_list = []\n",
    "\n",
    "for key in GO_entries.keys():\n",
    "    if key not in root:\n",
    "        Map_list.append((key,GO_entries[key][2]))\n",
    " "
   ]
  },
  {
   "cell_type": "code",
   "execution_count": 9,
   "metadata": {},
   "outputs": [],
   "source": [
    "GO_Parents = dict(Map_list)\n",
    "for key in root:\n",
    "    GO_Parents[key]=[key]"
   ]
  },
  {
   "cell_type": "markdown",
   "metadata": {},
   "source": [
    "def Find_Parent (GO_ID, levels) => Input is GO_ID en hoeveel 'niveaus' je hoger wilt gaan kijken; output zou dan een lijst moeten zijn met alle termen die 'levels' aantal niveaus hoger liggen\n",
    "Modification invoeren => MAppen naar termen met afstand x van de root\n",
    "\n",
    "comment : idealiter gezien wil je het pad tussenchild en parent ook zien maar dat heb ik nog niet gevonden xD Ik vermoed da je deze fct wel kan gebruiken daarvoor maar eerst de deze maken :p"
   ]
  },
  {
   "cell_type": "code",
   "execution_count": 10,
   "metadata": {},
   "outputs": [],
   "source": [
    "def Find_Parent(GO_ID, levels):\n",
    "    if GO_Parents[GO_ID] == ['obsolete']:\n",
    "        return 'This GO ID is obsolete'\n",
    "    Child_list = []\n",
    "    Parent_list = [GO_ID]\n",
    "    for x in range(0,levels):\n",
    "        Child_list = Parent_list\n",
    "        Parent_list =[]\n",
    "        for y in range(0,len(Child_list)):\n",
    "            Child = Child_list[y]\n",
    "            Parents = GO_Parents[Child]\n",
    "            for z in range(0,len(Parents)):\n",
    "                Parent_list.append(Parents[z])\n",
    "            #print(Child_list)\n",
    "            #print (Parent_list)\n",
    "    return Parent_list\n",
    "        "
   ]
  },
  {
   "cell_type": "markdown",
   "metadata": {},
   "source": [
    "Find_Parent('GO:0000001',3) => Geen probleem met lijsten => Parent_list gets appended but child list stays unchanged"
   ]
  },
  {
   "cell_type": "code",
   "execution_count": 11,
   "metadata": {},
   "outputs": [],
   "source": [
    "def Find_Child(GO_ID,levels):\n",
    "    if GO_Parents[GO_ID] == ['obsolete']:\n",
    "        return 'This GO ID is obsolete'\n",
    "    Child_list = [GO_ID]\n",
    "    Parent_list = []\n",
    "    specific_child_list=[]\n",
    "    for x in range(0,levels):\n",
    "        Parent_list = Child_list\n",
    "        Child_list =[]\n",
    "        for Parent in Parent_list:\n",
    "            for key in GO_Parents.keys():\n",
    "                if Parent in GO_Parents[key]:\n",
    "                    specific_child_list.append(key)\n",
    "            if specific_child_list != []:\n",
    "                for term in specific_child_list:\n",
    "                    Child_list.append(term)\n",
    "            else:\n",
    "                Child_list.append(Parent)\n",
    "                \n",
    "    return Child_list"
   ]
  },
  {
   "cell_type": "code",
   "execution_count": 12,
   "metadata": {},
   "outputs": [],
   "source": [
    "def Assign_depth():\n",
    "    for GO_ID in GO_entries.keys():\n",
    "        if GO_Parents[GO_ID] == ['obsolete']:\n",
    "            continue\n",
    "        root_term = False\n",
    "        depth =0\n",
    "        inp=[GO_ID]\n",
    "        outp=[]\n",
    "        \n",
    "        while not root_term:\n",
    "            depth = depth +1\n",
    "            for term in inp:\n",
    "                for parent in Find_Parent(term,1):\n",
    "                    outp.append(parent)\n",
    "            \n",
    "                for word in root:\n",
    "                    if word in outp:\n",
    "                        root_term = True\n",
    "            inp = list(pd.unique(outp[:]))\n",
    "            outp=[]\n",
    "            \n",
    "        GO_entries[GO_ID].append(depth)\n",
    "    \n",
    "    \n",
    "    "
   ]
  },
  {
   "cell_type": "code",
   "execution_count": 13,
   "metadata": {},
   "outputs": [],
   "source": [
    "Assign_depth()"
   ]
  },
  {
   "cell_type": "code",
   "execution_count": 14,
   "metadata": {},
   "outputs": [],
   "source": [
    "for key in root:\n",
    "    GO_entries[key]=GO_entries[key][:2]\n",
    "    GO_entries[key].append(0)"
   ]
  },
  {
   "cell_type": "code",
   "execution_count": 15,
   "metadata": {},
   "outputs": [],
   "source": [
    "def Remap (GO_ID, goal_depth):\n",
    "    \n",
    "#Tackling special situations\n",
    "    if goal_depth == 0:\n",
    "        return Find_GO_ID(GO_entries[GO_ID][2])\n",
    "    \n",
    "    if GO_Parents[GO_ID] == ['obsolete']:\n",
    "        return ('This term is obsolete')\n",
    "    \n",
    "    if goal_depth < 0:\n",
    "        return (\"goal_depth can't be a negative integer\")\n",
    "    \n",
    "#Determining max depth    \n",
    "    depth_list=[]\n",
    "    for key in GO_entries.keys():\n",
    "        if key in root:\n",
    "            depth_list.append(0)\n",
    "        else:\n",
    "            if GO_Parents[key] != ['obsolete']:\n",
    "                depth_list.append(GO_entries[key][3])\n",
    "    max_depth = max(pd.unique(depth_list))\n",
    "    if goal_depth > max_depth:\n",
    "        return ('max depth in the GO DAG is '+ str(max_depth))\n",
    "    \n",
    "#Determining depth of given term    \n",
    "    if GO_ID in root:\n",
    "        init_depth=0\n",
    "    else:\n",
    "        init_depth = GO_entries[GO_ID][3]\n",
    "#trivial anwser\n",
    "    if goal_depth == init_depth:\n",
    "        return GO_ID\n",
    "#diff < 0 means goal depth is more specific thus we need to find all child terms at goal depth\n",
    "#diff>0 means goal depth is more general thus we need to find parents at goal depth\n",
    "    else:\n",
    "        diff = init_depth - goal_depth\n",
    "        if diff < 0: #MAG NIET!!!! Voer check in met waarschuwing\n",
    "            return \"You cannot map to terms with a higher depth. The depth of the input term is \" + str(init_depth)\n",
    "        elif diff>0:\n",
    "            out_list=[]\n",
    "            for i in range(0,init_depth):\n",
    "                to_test = Find_Parent(GO_ID,i)\n",
    "                for term in to_test:\n",
    "                    if GO_entries[term][3] == goal_depth:\n",
    "                        out_list.append(term)\n",
    "            return list(pd.unique(out_list))\n",
    "                    \n",
    "                        \n",
    "                \n",
    "        \n",
    "            "
   ]
  },
  {
   "cell_type": "code",
   "execution_count": 16,
   "metadata": {},
   "outputs": [
    {
     "data": {
      "text/plain": [
       "'You cannot map to terms with a higher depth. The depth of the input term is 4'"
      ]
     },
     "execution_count": 16,
     "metadata": {},
     "output_type": "execute_result"
    }
   ],
   "source": [
    "Remap('GO:0004012',5)"
   ]
  },
  {
   "cell_type": "code",
   "execution_count": 17,
   "metadata": {},
   "outputs": [],
   "source": [
    "GO.close()"
   ]
  },
  {
   "cell_type": "code",
   "execution_count": 46,
   "metadata": {},
   "outputs": [],
   "source": [
    "HSP1 = pd.read_table('/Users/thesis/Desktop/HSP70 1.tsv')\n",
    "HSP2 = pd.read_table('/Users/thesis/Desktop/HSP70 2.tsv')"
   ]
  },
  {
   "cell_type": "code",
   "execution_count": 47,
   "metadata": {},
   "outputs": [
    {
     "name": "stdout",
     "output_type": "stream",
     "text": [
      "{'GO:0005739', 'GO:0008285', 'GO:0005737', 'GO:0016235', 'GO:0010941', 'GO:0043312', 'GO:0090084', 'GO:0003723', 'GO:0055131', 'GO:0005856', 'GO:0032757', 'GO:0005102', 'GO:0000151', 'GO:0043066', 'GO:0005576', 'GO:0030529', 'GO:0005524', 'GO:0070062', 'GO:1900034', 'GO:0051092', 'GO:0005815', 'GO:0005783', 'GO:0031072', 'GO:0030308', 'GO:0090063', 'GO:0043234', 'GO:0046034', 'GO:0072562', 'GO:1904813', 'GO:0006402', 'GO:0045648', 'GO:2001240', 'GO:0042026', 'GO:0070434', 'GO:0044183', 'GO:0016887', 'GO:1903265', 'GO:0046718', 'GO:0019899', 'GO:0047485', 'GO:0010628', 'GO:0048471', 'GO:0031397', 'GO:0001618', 'GO:0042826', 'GO:0001664', 'GO:0005634', 'GO:0005813', 'GO:0005829', 'GO:0000166', 'GO:0042623', 'GO:0005925', 'GO:0060548', 'GO:0005654', 'GO:0016234', 'GO:0050821', 'GO:0016607', 'GO:0031982', 'GO:0005515', 'GO:0051082', 'GO:0034599', 'GO:1901673', 'GO:0005814', 'GO:0070370', 'GO:0034605', 'GO:0031625', 'GO:0031396'}\n",
      "{'GO:0005739', 'GO:0008285', 'GO:0005737', 'GO:0016235', 'GO:0005925', 'GO:0010941', 'GO:0043312', 'GO:0090084', 'GO:1904722', 'GO:0030512', 'GO:0003723', 'GO:0055131', 'GO:0005856', 'GO:0032757', 'GO:0005102', 'GO:0000151', 'GO:0045296', 'GO:1902380', 'GO:0043066', 'GO:0005576', 'GO:0030529', 'GO:0006986', 'GO:0005524', 'GO:0070062', 'GO:1900034', 'GO:0051092', 'GO:0005815', 'GO:0005783', 'GO:0031072', 'GO:0030308', 'GO:0090063', 'GO:0031982', 'GO:0043234', 'GO:0046034', 'GO:1901029', 'GO:0072562', 'GO:1904813', 'GO:0051131', 'GO:0097201', 'GO:0006402', 'GO:0045648', 'GO:2001240', 'GO:0042026', 'GO:0070434', 'GO:0044183', 'GO:0016887', 'GO:1903265', 'GO:0001106', 'GO:0046718', 'GO:0019899', 'GO:0047485', 'GO:0010628', 'GO:0048471', 'GO:0031397', 'GO:0001618', 'GO:0032436', 'GO:0042826', 'GO:0001664', 'GO:0005634', 'GO:0005813', 'GO:0031249', 'GO:0000166', 'GO:0042623', 'GO:0005829', 'GO:0060548', 'GO:0097718', 'GO:1902236', 'GO:0050821', 'GO:0005654', 'GO:0016234', 'GO:0016607', 'GO:0005515', 'GO:0051082', 'GO:0034599', 'GO:1901673', 'GO:0043488', 'GO:0005814', 'GO:0008180', 'GO:0070370', 'GO:0034605', 'GO:0031625', 'GO:0031396'}\n"
     ]
    }
   ],
   "source": [
    "go_terms1 =set((HSP1.loc[:,\"GO TERM\"]))\n",
    "go_terms2 =set((HSP2.loc[:,\"GO TERM\"]))\n",
    "print(go_terms1)\n",
    "print(go_terms2)"
   ]
  },
  {
   "cell_type": "code",
   "execution_count": 48,
   "metadata": {},
   "outputs": [
    {
     "name": "stdout",
     "output_type": "stream",
     "text": [
      "['GO:0005739', 'GO:0008285', 'GO:0005737', 'GO:0016235', 'GO:0010941', 'GO:0043312', 'GO:0090084', 'GO:0003723', 'GO:0055131', 'GO:0005856', 'GO:0032757', 'GO:0005102', 'GO:0000151', 'GO:0043066', 'GO:0005576', 'GO:0030529', 'GO:0005524', 'GO:0070062', 'GO:1900034', 'GO:0051092', 'GO:0005815', 'GO:0005783', 'GO:0031072', 'GO:0030308', 'GO:0090063', 'GO:0043234', 'GO:0046034', 'GO:0072562', 'GO:1904813', 'GO:0006402', 'GO:0045648', 'GO:2001240', 'GO:0042026', 'GO:0070434', 'GO:0044183', 'GO:0016887', 'GO:1903265', 'GO:0046718', 'GO:0019899', 'GO:0047485', 'GO:0010628', 'GO:0048471', 'GO:0031397', 'GO:0001618', 'GO:0042826', 'GO:0001664', 'GO:0005634', 'GO:0005813', 'GO:0005829', 'GO:0000166', 'GO:0042623', 'GO:0005925', 'GO:0060548', 'GO:0005654', 'GO:0016234', 'GO:0050821', 'GO:0016607', 'GO:0031982', 'GO:0005515', 'GO:0051082', 'GO:0034599', 'GO:1901673', 'GO:0005814', 'GO:0070370', 'GO:0034605', 'GO:0031625', 'GO:0031396']\n",
      "set()\n",
      "{'GO:1904722', 'GO:0030512', 'GO:0045296', 'GO:1902380', 'GO:0006986', 'GO:1901029', 'GO:0051131', 'GO:0097201', 'GO:0001106', 'GO:0032436', 'GO:0031249', 'GO:0097718', 'GO:1902236', 'GO:0043488', 'GO:0008180'}\n"
     ]
    }
   ],
   "source": [
    "#the result points out that go terms2 has terms that go terms 1 doesn't have.\n",
    "to_remove=[]\n",
    "for name in go_terms1:\n",
    "    if name in go_terms2:\n",
    "        to_remove.append(name)\n",
    "for name in to_remove:\n",
    "    go_terms1.remove(name)\n",
    "    go_terms2.remove(name)\n",
    "print(to_remove)\n",
    "print(go_terms1)\n",
    "print(go_terms2)"
   ]
  },
  {
   "cell_type": "code",
   "execution_count": 55,
   "metadata": {},
   "outputs": [],
   "source": [
    "CLM1 = pd.read_table('/Users/thesis/Desktop/Calmodulin 1.tsv')\n",
    "CLM2 = pd.read_table('/Users/thesis/Desktop/Calmodulin 2.tsv')\n",
    "CLM3 = pd.read_table('/Users/thesis/Desktop/Calmodulin 3.tsv')"
   ]
  },
  {
   "cell_type": "code",
   "execution_count": 56,
   "metadata": {},
   "outputs": [
    {
     "name": "stdout",
     "output_type": "stream",
     "text": [
      "{'GO:0000922', 'GO:0005509', 'GO:0005886', 'GO:0021762', 'GO:0005737', 'GO:0060316', 'GO:0044325', 'GO:0005819', 'GO:0051343', 'GO:0046872', 'GO:0034220', 'GO:0006479', 'GO:0015276', 'GO:0043647', 'GO:0010880', 'GO:0010881', 'GO:0019855', 'GO:1901844', 'GO:0031954', 'GO:0034704', 'GO:0005576', 'GO:0008179', 'GO:0007223', 'GO:0008440', 'GO:0070062', 'GO:0010800', 'GO:0031997', 'GO:0031432', 'GO:0060315', 'GO:1902494', 'GO:0032516', 'GO:0043539', 'GO:0051592', 'GO:0060314', 'GO:0043234', 'GO:0005876', 'GO:0019901', 'GO:0019904', 'GO:0030017', 'GO:0000165', 'GO:0006936', 'GO:0002576', 'GO:0030819', 'GO:0071902', 'GO:0005513', 'GO:0038095', 'GO:0007186', 'GO:0002027', 'GO:0035307', 'GO:0005813', 'GO:0005634', 'GO:0005829', 'GO:0031982', 'GO:0005088', 'GO:0072542', 'GO:0032465', 'GO:0097718', 'GO:0050999', 'GO:0005654', 'GO:0030801', 'GO:0005515', 'GO:0051186', 'GO:0022400', 'GO:0005856', 'GO:0005980', 'GO:0055117', 'GO:0010801'}\n",
      "{'GO:0000922', 'GO:0005509', 'GO:0005886', 'GO:0021762', 'GO:0005737', 'GO:0060316', 'GO:0044325', 'GO:0005819', 'GO:0051343', 'GO:0046872', 'GO:0010880', 'GO:0010881', 'GO:0019855', 'GO:1901844', 'GO:0031954', 'GO:0034704', 'GO:0008179', 'GO:0070062', 'GO:0010800', 'GO:0031997', 'GO:0031432', 'GO:0060315', 'GO:1902494', 'GO:0032516', 'GO:0043539', 'GO:0051592', 'GO:0043234', 'GO:0005876', 'GO:0019901', 'GO:0019904', 'GO:0030017', 'GO:0030819', 'GO:0071902', 'GO:0005513', 'GO:0007186', 'GO:0002027', 'GO:0035307', 'GO:0005813', 'GO:0005634', 'GO:0031982', 'GO:0072542', 'GO:0032465', 'GO:0097718', 'GO:0030801', 'GO:0005515', 'GO:0005856', 'GO:0055117', 'GO:0010801'}\n",
      "{'GO:0000922', 'GO:0005509', 'GO:0005886', 'GO:0021762', 'GO:0005737', 'GO:0060316', 'GO:0044325', 'GO:0005819', 'GO:0051343', 'GO:0046872', 'GO:0010880', 'GO:0010881', 'GO:1901844', 'GO:0031954', 'GO:0034704', 'GO:0008179', 'GO:0070062', 'GO:0010800', 'GO:0031997', 'GO:0031432', 'GO:0060315', 'GO:1902494', 'GO:0032516', 'GO:0043539', 'GO:0051592', 'GO:0043234', 'GO:0005876', 'GO:0019901', 'GO:0019904', 'GO:0030017', 'GO:0030819', 'GO:0071902', 'GO:0005513', 'GO:0007186', 'GO:0002027', 'GO:0035307', 'GO:0005813', 'GO:0005634', 'GO:0031982', 'GO:0072542', 'GO:0032465', 'GO:0097718', 'GO:0030801', 'GO:0005515', 'GO:0005856', 'GO:0055117', 'GO:0010801'}\n"
     ]
    }
   ],
   "source": [
    "go_terms1 =set((CLM1.loc[:,\"GO TERM\"]))\n",
    "go_terms2 =set((CLM2.loc[:,\"GO TERM\"]))\n",
    "go_terms3 =set((CLM3.loc[:,\"GO TERM\"]))\n",
    "print(go_terms1)\n",
    "print(go_terms2)\n",
    "print(go_terms3)"
   ]
  },
  {
   "cell_type": "code",
   "execution_count": 57,
   "metadata": {},
   "outputs": [
    {
     "name": "stdout",
     "output_type": "stream",
     "text": [
      "['GO:0000922', 'GO:0005509', 'GO:0005886', 'GO:0021762', 'GO:0005737', 'GO:0060316', 'GO:0044325', 'GO:0005819', 'GO:0051343', 'GO:0046872', 'GO:0010880', 'GO:0010881', 'GO:1901844', 'GO:0031954', 'GO:0034704', 'GO:0008179', 'GO:0070062', 'GO:0010800', 'GO:0031997', 'GO:0031432', 'GO:0060315', 'GO:1902494', 'GO:0032516', 'GO:0043539', 'GO:0051592', 'GO:0043234', 'GO:0005876', 'GO:0019901', 'GO:0019904', 'GO:0030017', 'GO:0030819', 'GO:0071902', 'GO:0005513', 'GO:0007186', 'GO:0002027', 'GO:0035307', 'GO:0005813', 'GO:0005634', 'GO:0031982', 'GO:0072542', 'GO:0032465', 'GO:0097718', 'GO:0030801', 'GO:0005515', 'GO:0005856', 'GO:0055117', 'GO:0010801']\n",
      "{'GO:0034220', 'GO:0006479', 'GO:0015276', 'GO:0043647', 'GO:0019855', 'GO:0005576', 'GO:0007223', 'GO:0008440', 'GO:0060314', 'GO:0000165', 'GO:0006936', 'GO:0002576', 'GO:0038095', 'GO:0005829', 'GO:0005088', 'GO:0050999', 'GO:0005654', 'GO:0051186', 'GO:0022400', 'GO:0005980'}\n",
      "set()\n"
     ]
    }
   ],
   "source": [
    "#If you compare go_terms 1 and 2 you get an empty go_terms 2 which means go terms 1 completely covers go_terms2\n",
    "#same goes for go_terms 1 and 3 => 1 has everything that 3 has but not vice versa\n",
    "to_remove=[]\n",
    "for name in go_terms1:\n",
    "    if name in go_terms3:\n",
    "        to_remove.append(name)\n",
    "for name in to_remove:\n",
    "    go_terms1.remove(name)\n",
    "    go_terms3.remove(name)\n",
    "print(to_remove)\n",
    "print(go_terms1)\n",
    "print(go_terms3)"
   ]
  },
  {
   "cell_type": "code",
   "execution_count": 69,
   "metadata": {},
   "outputs": [],
   "source": [
    "HSP1 = pd.read_table('/Users/thesis/Desktop/HSP70 1.tsv')\n",
    "HSP2 = pd.read_table('/Users/thesis/Desktop/HSP70 2.tsv')\n",
    "go_terms1 =set((HSP1.loc[:,\"GO TERM\"]))\n",
    "go_terms2 =set((HSP2.loc[:,\"GO TERM\"]))"
   ]
  },
  {
   "cell_type": "code",
   "execution_count": 76,
   "metadata": {},
   "outputs": [],
   "source": [
    "remapped_terms1 =[]\n",
    "remapped_terms2 =[]\n",
    "\n",
    "for ID in go_terms1:\n",
    "    remap = Remap(ID,4)\n",
    "    if type(remap) == list:\n",
    "        for i in range(len(remap)):\n",
    "            if remap[i] not in remapped_terms1:\n",
    "                remapped_terms1.append(remap[i])\n",
    "    else:\n",
    "        remapped_terms1.append(ID)\n",
    "        \n",
    "for ID in go_terms2:\n",
    "    remap = Remap(ID,4)\n",
    "    if type(remap) == list:\n",
    "        for i in range(len(remap)):\n",
    "            if remap[i] not in remapped_terms2:\n",
    "                remapped_terms2.append(remap[i])\n",
    "    else:\n",
    "        remapped_terms2.append(ID)\n"
   ]
  },
  {
   "cell_type": "code",
   "execution_count": 77,
   "metadata": {},
   "outputs": [
    {
     "name": "stdout",
     "output_type": "stream",
     "text": [
      "['GO:0005739', 'GO:0042127', 'GO:0048523', 'GO:0005737', 'GO:0016235', 'GO:0010941', 'GO:0043312', 'GO:0090083', 'GO:0051128', 'GO:0003723', 'GO:0055131', 'GO:0005856', 'GO:0001817', 'GO:0051240', 'GO:0005102', 'GO:0000151', 'GO:0005576', 'GO:0030529', 'GO:0005524', 'GO:0070062', 'GO:0080135', 'GO:0080134', 'GO:0051091', 'GO:0005815', 'GO:0005783', 'GO:0031072', 'GO:0001558', 'GO:0045926', 'GO:0043254', 'GO:0044089', 'GO:0048522', 'GO:0032886', 'GO:0043234', 'GO:0046034', 'GO:0072562', 'GO:1904813', 'GO:0034655', 'GO:0044265', 'GO:0090304', 'GO:0019439', 'GO:0044270', 'GO:0046700', 'GO:1901361', 'GO:0009057', 'GO:0060255', 'GO:0009892', 'GO:0032846', 'GO:0045646', 'GO:0045595', 'GO:0051094', 'GO:1903706', 'GO:0002684', 'GO:2000026', 'GO:0009966', 'GO:0023057', 'GO:0048585', 'GO:0010646', 'GO:0042026', 'GO:0048584', 'GO:0050776', 'GO:0023056', 'GO:0044183', 'GO:0016818', 'GO:0060759', 'GO:0051828', 'GO:0019899', 'GO:0047485', 'GO:0009893', 'GO:0048471', 'GO:0031323', 'GO:0051171', 'GO:0080090', 'GO:0001618', 'GO:0042826', 'GO:0001664', 'GO:0005634', 'GO:0005829', 'GO:0000166', 'GO:0005925', 'GO:0005654', 'GO:0016234', 'GO:0050821', 'GO:0044451', 'GO:0031982', 'GO:0005515', 'GO:0051082', 'GO:0034599', 'GO:1902115', 'GO:0051726', 'GO:0005814', 'GO:0010286', 'GO:0034605', 'GO:0034605', 'GO:0044389']\n",
      "[]\n",
      "['GO:0090287', 'GO:0045296', 'GO:0051336', 'GO:0043085', 'GO:0006986', 'GO:0051051', 'GO:0051049', 'GO:0046902', 'GO:0007006', 'GO:0007005', 'GO:0065003', 'GO:0071822', 'GO:0043620', 'GO:0001076', 'GO:0003712', 'GO:0009894', 'GO:0031249', 'GO:0097718', 'GO:0043488', 'GO:0008180']\n"
     ]
    }
   ],
   "source": [
    "#terms2 has already at a depth of 2 terms that aren't included in terms1\n",
    "to_remove=[]\n",
    "for name in remapped_terms1:\n",
    "    if name in remapped_terms2:\n",
    "        to_remove.append(name)\n",
    "for name in to_remove:\n",
    "    remapped_terms1.remove(name)\n",
    "    remapped_terms2.remove(name)\n",
    "print(to_remove)\n",
    "print(remapped_terms1)\n",
    "print(remapped_terms2)"
   ]
  },
  {
   "cell_type": "code",
   "execution_count": 85,
   "metadata": {},
   "outputs": [],
   "source": [
    "CLM1 = pd.read_table('/Users/thesis/Desktop/Calmodulin 1.tsv')\n",
    "CLM2 = pd.read_table('/Users/thesis/Desktop/Calmodulin 2.tsv')\n",
    "CLM3 = pd.read_table('/Users/thesis/Desktop/Calmodulin 3.tsv')\n",
    "go_terms1 =set((CLM1.loc[:,\"GO TERM\"]))\n",
    "go_terms2 =set((CLM2.loc[:,\"GO TERM\"]))\n",
    "go_terms3 =set((CLM3.loc[:,\"GO TERM\"]))"
   ]
  },
  {
   "cell_type": "code",
   "execution_count": 88,
   "metadata": {},
   "outputs": [],
   "source": [
    "remapped_terms1 =[]\n",
    "remapped_terms3 =[]\n",
    "\n",
    "for ID in go_terms1:\n",
    "    remap = Remap(ID,2)\n",
    "    if type(remap) == list:\n",
    "        for i in range(len(remap)):\n",
    "            if remap[i] not in remapped_terms1:\n",
    "                remapped_terms1.append(remap[i])\n",
    "    else:\n",
    "        remapped_terms1.append(ID)\n",
    "        \n",
    "for ID in go_terms3:\n",
    "    remap = Remap(ID,2)\n",
    "    if type(remap) == list:\n",
    "        for i in range(len(remap)):\n",
    "            if remap[i] not in remapped_terms3:\n",
    "                remapped_terms3.append(remap[i])\n",
    "    else:\n",
    "        remapped_terms3.append(ID)"
   ]
  },
  {
   "cell_type": "code",
   "execution_count": 89,
   "metadata": {},
   "outputs": [
    {
     "name": "stdout",
     "output_type": "stream",
     "text": [
      "['GO:0044446', 'GO:0044424', 'GO:0043167', 'GO:0005886', 'GO:0048856', 'GO:0050789', 'GO:0065008', 'GO:0065009', 'GO:0005515', 'GO:0043228', 'GO:0043229', 'GO:0007165', 'GO:1902495', 'GO:1990351', 'GO:0043230', 'GO:0043227', 'GO:1902494', 'GO:0030234', 'GO:0042221', 'GO:0043234', 'GO:0099081', 'GO:0044449', 'GO:0051606', 'GO:0005515']\n",
      "['GO:0051234', 'GO:0032259', 'GO:0044237', 'GO:0022857', 'GO:0071704', 'GO:0044281', 'GO:0016247', 'GO:0005576', 'GO:0016740', 'GO:0003008', 'GO:0032940', 'GO:0005085', 'GO:0055114', 'GO:0009056', 'GO:0044238']\n",
      "[]\n"
     ]
    }
   ],
   "source": [
    "to_remove=[]\n",
    "for name in remapped_terms1:\n",
    "    if name in remapped_terms3:\n",
    "        to_remove.append(name)\n",
    "for name in to_remove:\n",
    "    remapped_terms1.remove(name)\n",
    "    remapped_terms3.remove(name)\n",
    "print(to_remove)\n",
    "print(remapped_terms1)\n",
    "print(remapped_terms3)"
   ]
  },
  {
   "cell_type": "code",
   "execution_count": null,
   "metadata": {},
   "outputs": [],
   "source": [
    "#op diepte 2 heeft CLM1 al (veel) meer termen dan CLM2, same goes for CLM3"
   ]
  }
 ],
 "metadata": {
  "kernelspec": {
   "display_name": "Python 3",
   "language": "python",
   "name": "python3"
  },
  "language_info": {
   "codemirror_mode": {
    "name": "ipython",
    "version": 3
   },
   "file_extension": ".py",
   "mimetype": "text/x-python",
   "name": "python",
   "nbconvert_exporter": "python",
   "pygments_lexer": "ipython3",
   "version": "3.6.1"
  }
 },
 "nbformat": 4,
 "nbformat_minor": 2
}
