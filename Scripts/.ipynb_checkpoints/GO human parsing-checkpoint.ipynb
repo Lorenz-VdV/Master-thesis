{
 "cells": [
  {
   "cell_type": "code",
   "execution_count": 124,
   "metadata": {},
   "outputs": [],
   "source": [
    "import re\n",
    "import numpy as np\n",
    "import pandas as pd"
   ]
  },
  {
   "cell_type": "code",
   "execution_count": 125,
   "metadata": {},
   "outputs": [],
   "source": [
    "GO = pd.read_table(\"/Users/thesis/Desktop/Google Drive/thesis-lorenz/Work in progress.../Databases/GO/Francisella tularensis.goa\", names =[\"DB\", \"DB_Object_ID\",\"Alt_DB_Object_ID\",\"GO_ID\",\"GO:REF\",\"Evidence_code\",\"DB:reference\",\"Aspect\", \"DB_Object_name\", \"DB_Object_Synonym\",\"DB_Object_Type\",\"Taxon_and_Interacting_taxon\",\"Date\",\"Assigned_By\",\"extra\"], usecols = [0,1,2,4,5,6,7,8,9,10,11,12,13,14,15])"
   ]
  },
  {
   "cell_type": "code",
   "execution_count": 126,
   "metadata": {
    "scrolled": true
   },
   "outputs": [],
   "source": [
    "GO = GO.drop([0,1])\n",
    "GO = GO.drop([\"extra\"],axis=1)\n",
    "GO = GO.reset_index(drop=True)"
   ]
  },
  {
   "cell_type": "code",
   "execution_count": 127,
   "metadata": {},
   "outputs": [],
   "source": [
    "mylist=[]\n",
    "for name in GO.DB_Object_ID.unique():\n",
    "    sel = GO.DB_Object_ID == name\n",
    "    mylist.append((name,list(GO.loc[sel,\"GO_ID\"])))"
   ]
  },
  {
   "cell_type": "code",
   "execution_count": 128,
   "metadata": {},
   "outputs": [],
   "source": [
    "Prot_to_GO = dict(mylist)"
   ]
  },
  {
   "cell_type": "code",
   "execution_count": 129,
   "metadata": {},
   "outputs": [],
   "source": [
    "mylist=[]\n",
    "for term in GO.GO_ID.unique():\n",
    "    sel = GO.GO_ID == term\n",
    "    mylist.append((term,list(GO.loc[sel,\"DB_Object_ID\"])))"
   ]
  },
  {
   "cell_type": "code",
   "execution_count": 130,
   "metadata": {},
   "outputs": [],
   "source": [
    "GO_to_Prot = dict(mylist)"
   ]
  },
  {
   "cell_type": "code",
   "execution_count": 112,
   "metadata": {},
   "outputs": [
    {
     "data": {
      "text/plain": [
       "array(['taxon:177416'], dtype=object)"
      ]
     },
     "execution_count": 112,
     "metadata": {},
     "output_type": "execute_result"
    }
   ],
   "source": [
    "GO.Taxon_and_Interacting_taxon.unique()"
   ]
  },
  {
   "cell_type": "code",
   "execution_count": 120,
   "metadata": {},
   "outputs": [
    {
     "data": {
      "text/plain": [
       "array([False], dtype=bool)"
      ]
     },
     "execution_count": 120,
     "metadata": {},
     "output_type": "execute_result"
    }
   ],
   "source": [
    "GO.DB_Object_ID.isnull().unique()"
   ]
  },
  {
   "cell_type": "code",
   "execution_count": null,
   "metadata": {},
   "outputs": [],
   "source": []
  }
 ],
 "metadata": {
  "kernelspec": {
   "display_name": "Python 3",
   "language": "python",
   "name": "python3"
  },
  "language_info": {
   "codemirror_mode": {
    "name": "ipython",
    "version": 3
   },
   "file_extension": ".py",
   "mimetype": "text/x-python",
   "name": "python",
   "nbconvert_exporter": "python",
   "pygments_lexer": "ipython3",
   "version": "3.6.1"
  }
 },
 "nbformat": 4,
 "nbformat_minor": 2
}
