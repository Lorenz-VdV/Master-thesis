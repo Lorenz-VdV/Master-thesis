{
 "cells": [
  {
   "cell_type": "code",
   "execution_count": 2,
   "metadata": {},
   "outputs": [],
   "source": [
    "import re\n",
    "import numpy as np\n",
    "import pandas as pd"
   ]
  },
  {
   "cell_type": "code",
   "execution_count": 3,
   "metadata": {},
   "outputs": [],
   "source": [
    "IPR = pd.read_table(\"/Users/thesis/Desktop/Google Drive/thesis-lorenz/Work in progress.../Databases/InterPro/example-protein2ipr.dat.txt\", usecols=[0,1,2], names =[\"Protein_ID\", \"IPR_ID\",\"IPR_name\"], header= None)"
   ]
  },
  {
   "cell_type": "code",
   "execution_count": 4,
   "metadata": {
    "scrolled": true
   },
   "outputs": [
    {
     "data": {
      "text/html": [
       "<div>\n",
       "<style scoped>\n",
       "    .dataframe tbody tr th:only-of-type {\n",
       "        vertical-align: middle;\n",
       "    }\n",
       "\n",
       "    .dataframe tbody tr th {\n",
       "        vertical-align: top;\n",
       "    }\n",
       "\n",
       "    .dataframe thead th {\n",
       "        text-align: right;\n",
       "    }\n",
       "</style>\n",
       "<table border=\"1\" class=\"dataframe\">\n",
       "  <thead>\n",
       "    <tr style=\"text-align: right;\">\n",
       "      <th></th>\n",
       "      <th>Protein_ID</th>\n",
       "      <th>IPR_ID</th>\n",
       "      <th>IPR_name</th>\n",
       "    </tr>\n",
       "  </thead>\n",
       "  <tbody>\n",
       "    <tr>\n",
       "      <th>0</th>\n",
       "      <td>A0A000</td>\n",
       "      <td>IPR004839</td>\n",
       "      <td>Aminotransferase, class I/classII</td>\n",
       "    </tr>\n",
       "    <tr>\n",
       "      <th>1</th>\n",
       "      <td>A0A000</td>\n",
       "      <td>IPR010961</td>\n",
       "      <td>Tetrapyrrole biosynthesis, 5-aminolevulinic ac...</td>\n",
       "    </tr>\n",
       "    <tr>\n",
       "      <th>2</th>\n",
       "      <td>A0A000</td>\n",
       "      <td>IPR015421</td>\n",
       "      <td>Pyridoxal phosphate-dependent transferase, maj...</td>\n",
       "    </tr>\n",
       "    <tr>\n",
       "      <th>3</th>\n",
       "      <td>A0A000</td>\n",
       "      <td>IPR015422</td>\n",
       "      <td>Pyridoxal phosphate-dependent transferase, sub...</td>\n",
       "    </tr>\n",
       "    <tr>\n",
       "      <th>4</th>\n",
       "      <td>A0A000</td>\n",
       "      <td>IPR015424</td>\n",
       "      <td>Pyridoxal phosphate-dependent transferase</td>\n",
       "    </tr>\n",
       "    <tr>\n",
       "      <th>5</th>\n",
       "      <td>A0A001</td>\n",
       "      <td>IPR003439</td>\n",
       "      <td>ABC transporter-like</td>\n",
       "    </tr>\n",
       "    <tr>\n",
       "      <th>6</th>\n",
       "      <td>A0A001</td>\n",
       "      <td>IPR003439</td>\n",
       "      <td>ABC transporter-like</td>\n",
       "    </tr>\n",
       "    <tr>\n",
       "      <th>7</th>\n",
       "      <td>A0A001</td>\n",
       "      <td>IPR003593</td>\n",
       "      <td>AAA+ ATPase domain</td>\n",
       "    </tr>\n",
       "    <tr>\n",
       "      <th>8</th>\n",
       "      <td>A0A001</td>\n",
       "      <td>IPR011527</td>\n",
       "      <td>ABC transporter type 1, transmembrane domain</td>\n",
       "    </tr>\n",
       "    <tr>\n",
       "      <th>9</th>\n",
       "      <td>A0A001</td>\n",
       "      <td>IPR011527</td>\n",
       "      <td>ABC transporter type 1, transmembrane domain</td>\n",
       "    </tr>\n",
       "  </tbody>\n",
       "</table>\n",
       "</div>"
      ],
      "text/plain": [
       "  Protein_ID     IPR_ID                                           IPR_name\n",
       "0     A0A000  IPR004839                  Aminotransferase, class I/classII\n",
       "1     A0A000  IPR010961  Tetrapyrrole biosynthesis, 5-aminolevulinic ac...\n",
       "2     A0A000  IPR015421  Pyridoxal phosphate-dependent transferase, maj...\n",
       "3     A0A000  IPR015422  Pyridoxal phosphate-dependent transferase, sub...\n",
       "4     A0A000  IPR015424          Pyridoxal phosphate-dependent transferase\n",
       "5     A0A001  IPR003439                               ABC transporter-like\n",
       "6     A0A001  IPR003439                               ABC transporter-like\n",
       "7     A0A001  IPR003593                                 AAA+ ATPase domain\n",
       "8     A0A001  IPR011527       ABC transporter type 1, transmembrane domain\n",
       "9     A0A001  IPR011527       ABC transporter type 1, transmembrane domain"
      ]
     },
     "execution_count": 4,
     "metadata": {},
     "output_type": "execute_result"
    }
   ],
   "source": [
    "IPR"
   ]
  },
  {
   "cell_type": "code",
   "execution_count": 5,
   "metadata": {},
   "outputs": [],
   "source": [
    "mylist=[]\n",
    "for name in IPR.Protein_ID.unique():\n",
    "    sel = IPR.Protein_ID == name\n",
    "    mylist.append((name,list(IPR.loc[sel,\"IPR_ID\"])))"
   ]
  },
  {
   "cell_type": "code",
   "execution_count": 6,
   "metadata": {},
   "outputs": [],
   "source": [
    "Prot_to_IPR = dict(mylist)"
   ]
  },
  {
   "cell_type": "code",
   "execution_count": 7,
   "metadata": {},
   "outputs": [],
   "source": [
    "mylist=[]\n",
    "for term in IPR.IPR_ID.unique():\n",
    "    sel = IPR.IPR_ID == term\n",
    "    mylist.append((term,list(IPR.loc[sel,\"Protein_ID\"])))"
   ]
  },
  {
   "cell_type": "code",
   "execution_count": 8,
   "metadata": {},
   "outputs": [],
   "source": [
    "IPR_to_Prot = dict(mylist)"
   ]
  },
  {
   "cell_type": "code",
   "execution_count": 9,
   "metadata": {},
   "outputs": [
    {
     "data": {
      "text/plain": [
       "{'A0A000': ['IPR004839', 'IPR010961', 'IPR015421', 'IPR015422', 'IPR015424'],\n",
       " 'A0A001': ['IPR003439', 'IPR003439', 'IPR003593', 'IPR011527', 'IPR011527']}"
      ]
     },
     "execution_count": 9,
     "metadata": {},
     "output_type": "execute_result"
    }
   ],
   "source": [
    "Prot_to_IPR"
   ]
  },
  {
   "cell_type": "code",
   "execution_count": 11,
   "metadata": {},
   "outputs": [
    {
     "data": {
      "text/plain": [
       "{'IPR003439': ['A0A001', 'A0A001'],\n",
       " 'IPR003593': ['A0A001'],\n",
       " 'IPR004839': ['A0A000'],\n",
       " 'IPR010961': ['A0A000'],\n",
       " 'IPR011527': ['A0A001', 'A0A001'],\n",
       " 'IPR015421': ['A0A000'],\n",
       " 'IPR015422': ['A0A000'],\n",
       " 'IPR015424': ['A0A000']}"
      ]
     },
     "execution_count": 11,
     "metadata": {},
     "output_type": "execute_result"
    }
   ],
   "source": [
    "IPR_to_Prot"
   ]
  }
 ],
 "metadata": {
  "kernelspec": {
   "display_name": "Python 3",
   "language": "python",
   "name": "python3"
  },
  "language_info": {
   "codemirror_mode": {
    "name": "ipython",
    "version": 3
   },
   "file_extension": ".py",
   "mimetype": "text/x-python",
   "name": "python",
   "nbconvert_exporter": "python",
   "pygments_lexer": "ipython3",
   "version": "3.6.1"
  }
 },
 "nbformat": 4,
 "nbformat_minor": 2
}
