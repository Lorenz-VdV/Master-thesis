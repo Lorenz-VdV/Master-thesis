{
 "cells": [
  {
   "cell_type": "code",
   "execution_count": 6,
   "metadata": {},
   "outputs": [],
   "source": [
    "import re\n",
    "import numpy as np\n",
    "import pandas as pd"
   ]
  },
  {
   "cell_type": "code",
   "execution_count": 9,
   "metadata": {},
   "outputs": [],
   "source": [
    "Int_DB = pd.read_table(\"/Users/thesis/Desktop/Google Drive/thesis-lorenz/Work in progress.../Databases/Extracted datasets/Yersinia pestis\", usecols=lambda x:x !=\"Unnamed: 0\")"
   ]
  },
  {
   "cell_type": "code",
   "execution_count": 22,
   "metadata": {},
   "outputs": [],
   "source": [
    "#aanpassen zodat eerste open() gaat over de file op de harde schijf, \n",
    "#de tweede open() over de output file \n",
    "#en dan nog de if in aanpassen aan alle eiwitten in int db\n",
    "with open ('/Users/thesis/Desktop/test.txt','r') as f:\n",
    "    with open ('/Users/thesis/Desktop/out.txt','w') as w:\n",
    "        for line in f:\n",
    "            l = line.split('\\t')\n",
    "            if l[0] in ['A0A000','A0A002']:\n",
    "                w.write(line)\n",
    "            "
   ]
  },
  {
   "cell_type": "code",
   "execution_count": null,
   "metadata": {
    "scrolled": true
   },
   "outputs": [],
   "source": [
    "IPR_entry=[]\n",
    "P2IPR_full={}\n",
    "with open ('/Volumes/Biomina_D2/thesis-lorenz/protein2ipr.dat','r') as f:\n",
    "    for line in f:\n",
    "        l = line.split('\\t')\n",
    "        if l[0] not in IPR_entry:\n",
    "            if IPR_entry != []:\n",
    "                P2IPR_full[IPR_entry[0]]=IPR_entry[1:]\n",
    "                IPR_entry =[] \n",
    "            IPR_entry.append(l[0])\n",
    "        IPR_entry.append((l[1],l[2]))\n",
    "        \n",
    "for key in P2IPR_full.keys():\n",
    "    P2IPR_full[key]=list(pd.unique(P2IPR_full[key]))"
   ]
  },
  {
   "cell_type": "code",
   "execution_count": 80,
   "metadata": {},
   "outputs": [],
   "source": [
    "IPR_entry=[]\n",
    "P2IPR_ID={}\n",
    "with open ('/Users/thesis/Desktop/test.txt','r') as f:\n",
    "    for line in f:\n",
    "        l = line.split('\\t')\n",
    "        if l[0] not in IPR_entry:\n",
    "            if IPR_entry != []:\n",
    "                P2IPR_ID[IPR_entry[0]]=IPR_entry[1:]\n",
    "                IPR_entry =[]\n",
    "            IPR_entry.append(l[0])\n",
    "        IPR_entry.append(l[1])\n",
    "for key in P2IPR_ID.keys():\n",
    "    P2IPR_ID[key]=list(pd.unique(P2IPR_ID[key]))     "
   ]
  },
  {
   "cell_type": "code",
   "execution_count": 81,
   "metadata": {},
   "outputs": [],
   "source": [
    "IPR_entry=[]\n",
    "P2IPR_name={}\n",
    "with open ('/Users/thesis/Desktop/test.txt','r') as f:\n",
    "    for line in f:\n",
    "        l = line.split('\\t')\n",
    "        if l[0] not in IPR_entry:\n",
    "            if IPR_entry != []:\n",
    "                P2IPR_name[IPR_entry[0]]=IPR_entry[1:]\n",
    "                IPR_entry =[]\n",
    "            IPR_entry.append(l[0])\n",
    "        IPR_entry.append(l[2])\n",
    "        \n",
    "for key in P2IPR_name.keys():\n",
    "    P2IPR_name[key]=list(pd.unique(P2IPR_name[key]))"
   ]
  },
  {
   "cell_type": "code",
   "execution_count": 84,
   "metadata": {},
   "outputs": [],
   "source": [
    "def Find_terms(ID):\n",
    "    return P2IPR_full[ID]\n",
    "def Find_proteins(IPR):\n",
    "    outp = []\n",
    "    for key in P2IPR_ID:\n",
    "        if IPR in P2IPR_ID[key]:\n",
    "            outp.append(key)\n",
    "    return outp"
   ]
  }
 ],
 "metadata": {
  "kernelspec": {
   "display_name": "Python 3",
   "language": "python",
   "name": "python3"
  },
  "language_info": {
   "codemirror_mode": {
    "name": "ipython",
    "version": 3
   },
   "file_extension": ".py",
   "mimetype": "text/x-python",
   "name": "python",
   "nbconvert_exporter": "python",
   "pygments_lexer": "ipython3",
   "version": "3.6.1"
  }
 },
 "nbformat": 4,
 "nbformat_minor": 2
}
