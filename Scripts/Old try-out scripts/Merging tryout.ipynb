{
 "cells": [
  {
   "cell_type": "code",
   "execution_count": 158,
   "metadata": {},
   "outputs": [],
   "source": [
    "import pandas as pd\n",
    "import numpy as np"
   ]
  },
  {
   "cell_type": "code",
   "execution_count": 159,
   "metadata": {},
   "outputs": [],
   "source": [
    "df1 = pd.read_excel(\"../Test outputs/Shigella flexneri merge 1.xls\")"
   ]
  },
  {
   "cell_type": "code",
   "execution_count": 160,
   "metadata": {},
   "outputs": [],
   "source": [
    "df2 = pd.read_excel(\"../Test outputs/Shigella flexneri merge 2.xls\")"
   ]
  },
  {
   "cell_type": "code",
   "execution_count": 161,
   "metadata": {},
   "outputs": [],
   "source": [
    "df2=df2.drop(df2.columns[4:6],axis=1)\n",
    "df2=df2.drop(df2.columns[7:9],axis=1)"
   ]
  },
  {
   "cell_type": "code",
   "execution_count": 162,
   "metadata": {},
   "outputs": [],
   "source": [
    "df1.columns=df2.columns"
   ]
  },
  {
   "cell_type": "code",
   "execution_count": 163,
   "metadata": {},
   "outputs": [],
   "source": [
    "dfm1=pd.concat([df1,df2])\n",
    "dfm1=dfm1.reset_index(drop=True)\n",
    "\n",
    "dfm2= pd.concat([df1,df2])\n",
    "dfm2=dfm2.reset_index(drop=True)\n",
    "\n"
   ]
  },
  {
   "cell_type": "code",
   "execution_count": 164,
   "metadata": {},
   "outputs": [],
   "source": [
    "#Remove duplicates based on Interaction_ID\n",
    "sel_index=[]\n",
    "sel_ID=[]\n",
    "for i in range(0,len(dfm1)):\n",
    "    if dfm1.loc[i,\"Interaction_ID\"] not in sel_ID:\n",
    "        sel_index.append(i)\n",
    "        sel_ID.append(dfm1.loc[i,\"Interaction_ID\"])\n",
    "    else:\n",
    "        continue"
   ]
  },
  {
   "cell_type": "code",
   "execution_count": 165,
   "metadata": {},
   "outputs": [],
   "source": [
    "sel=dfm1.index.isin(sel_index)\n",
    "dfm1=dfm1.loc[sel,:]\n",
    "dfm1.reset_index(drop=True)\n",
    "dfm1.to_excel(\"../Test outputs/merge1.xls\")"
   ]
  },
  {
   "cell_type": "code",
   "execution_count": 166,
   "metadata": {},
   "outputs": [],
   "source": [
    "#Remove duplicates based on Personal ID\n",
    "Pers_ID = []\n",
    "for i in range(0,len(dfm2)):\n",
    "    mylist=[]\n",
    "    for name in dfm2.columns:\n",
    "        mylist.append(dfm2.loc[i,name])\n",
    "    s=\"\"\n",
    "    for i in range(0,len(mylist)):\n",
    "        s += str(mylist[i])\n",
    "    Pers_ID.append(s)\n",
    "dfm2=dfm2.assign(Pers_ID=Pers_ID)"
   ]
  },
  {
   "cell_type": "code",
   "execution_count": 167,
   "metadata": {},
   "outputs": [],
   "source": [
    "sel_index=[]\n",
    "sel_ID=[]\n",
    "for i in range(0,len(dfm2)):\n",
    "    if dfm2.loc[i,\"Pers_ID\"] not in sel_ID:\n",
    "        sel_index.append(i)\n",
    "        sel_ID.append(dfm2.loc[i,\"Pers_ID\"])\n",
    "    else:\n",
    "        continue"
   ]
  },
  {
   "cell_type": "code",
   "execution_count": 168,
   "metadata": {},
   "outputs": [],
   "source": [
    "sel=dfm2.index.isin(sel_index)\n",
    "dfm2=dfm2.loc[sel,:]\n",
    "dfm2.reset_index(drop=True)\n",
    "dfm2.to_excel(\"../Test outputs/merge2.xls\")"
   ]
  },
  {
   "cell_type": "markdown",
   "metadata": {},
   "source": [
    "Merging based on Interaction ID gets rid of all the isozyme entries except for one, because all the iszyme interactions are on the protein level basically identical and thus have the same interaction ID\n",
    "This gives us a dataframe of 73 unique interactions\n",
    "\n",
    "Merging based on a personal ID which includes gene ID keeps in all the isozyme entries, giving us a dataframe of 88 unique interactions"
   ]
  }
 ],
 "metadata": {
  "kernelspec": {
   "display_name": "Python 3",
   "language": "python",
   "name": "python3"
  },
  "language_info": {
   "codemirror_mode": {
    "name": "ipython",
    "version": 3
   },
   "file_extension": ".py",
   "mimetype": "text/x-python",
   "name": "python",
   "nbconvert_exporter": "python",
   "pygments_lexer": "ipython3",
   "version": "3.6.1"
  }
 },
 "nbformat": 4,
 "nbformat_minor": 2
}
